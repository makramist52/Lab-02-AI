{
  "cells": [
    {
      "cell_type": "code",
      "execution_count": 6,
      "metadata": {
        "trusted": true
      },
      "outputs": [],
      "source": [
        "      #Muhammad Akram\n",
        "\n",
        "\n",
        "      #202101006\n",
        "\n",
        "\n",
        "      #Artifical Intelligence lab\n",
        "\n",
        "\n",
        "      #Sir Zia Ur Rehman"
      ]
    },
    {
      "cell_type": "markdown",
      "metadata": {},
      "source": [
        "#Example 1"
      ]
    },
    {
      "cell_type": "code",
      "execution_count": 7,
      "metadata": {
        "trusted": true
      },
      "outputs": [
        {
          "name": "stdout",
          "output_type": "stream",
          "text": [
            "[1 2 3] * [4 5 6] = [ 4 10 18]\n"
          ]
        }
      ],
      "source": [
        "import numpy as np\n",
        "\n",
        "l1 = [1,2,3]\n",
        "l2 = [4,5,6]\n",
        "\n",
        "A1 = np.array(l1)\n",
        "A2 = np.array(l2)\n",
        "\n",
        "print(f\"{A1} * {A2} = {A1*A2}\")"
      ]
    },
    {
      "cell_type": "code",
      "execution_count": 8,
      "metadata": {},
      "outputs": [],
      "source": [
        "#Example 2"
      ]
    },
    {
      "cell_type": "code",
      "execution_count": 9,
      "metadata": {
        "trusted": true
      },
      "outputs": [
        {
          "name": "stdout",
          "output_type": "stream",
          "text": [
            "[1 2 3] * [4 5 6] = [ 4 10 18]\n",
            "The type of array using type: <class 'numpy.ndarray'>\n",
            "The type of array using dtype: int32\n",
            "The dimension of an array: (3,)\n"
          ]
        }
      ],
      "source": [
        "import numpy as np\n",
        "\n",
        "l1 = [1,2,3]\n",
        "l2 = [4,5,6]\n",
        "\n",
        "A1 = np.array(l1)\n",
        "A2 = np.array(l2)\n",
        "\n",
        "A = A1*A2\n",
        "\n",
        "print(f\"{A1} * {A2} = {A}\")\n",
        "\n",
        "print(f\"The type of array using type: {type(A)}\")\n",
        "print(f\"The type of array using dtype: {A.dtype}\") # no () with dtype because it is an attribute of A not a function\n",
        "\n",
        "print(f\"The dimension of an array: {A.shape}\")"
      ]
    },
    {
      "cell_type": "code",
      "execution_count": 10,
      "metadata": {
        "trusted": true
      },
      "outputs": [],
      "source": [
        "#Example 03"
      ]
    },
    {
      "cell_type": "code",
      "execution_count": 11,
      "metadata": {
        "trusted": true
      },
      "outputs": [
        {
          "name": "stdout",
          "output_type": "stream",
          "text": [
            "[1 2 3] * [4 5 6] = [ 4 10 18]\n",
            "The type of array using type: <class 'numpy.ndarray'>\n",
            "The type of array using dtype: int8\n",
            "The dimension of an array: (3,)\n"
          ]
        }
      ],
      "source": [
        "import numpy as np\n",
        "\n",
        "l1 = [1,2,3]\n",
        "l2 = [4,5,6]\n",
        "\n",
        "A1 = np.array(l1, np.int8)\n",
        "A2 = np.array(l2, np.int8)\n",
        "\n",
        "A = A1*A2\n",
        "\n",
        "print(f\"{A1} * {A2} = {A}\")\n",
        "\n",
        "print(f\"The type of array using type: {type(A)}\")\n",
        "print(f\"The type of array using dtype: {A.dtype}\") # no () with dtype because it is an attribute of A not a function\n",
        "\n",
        "print(f\"The dimension of an array: {A.shape}\")"
      ]
    },
    {
      "cell_type": "code",
      "execution_count": 12,
      "metadata": {
        "trusted": true
      },
      "outputs": [],
      "source": [
        "#Example 4"
      ]
    },
    {
      "cell_type": "code",
      "execution_count": 13,
      "metadata": {
        "trusted": true
      },
      "outputs": [
        {
          "name": "stdout",
          "output_type": "stream",
          "text": [
            "[1 2 3] * [4 5 6] = [ 4 10 18]\n",
            "The type of array using type: <class 'numpy.ndarray'>\n",
            "The type of array using dtype: int8\n",
            "The dimension of an array: (3,)\n",
            "The size of an array: 3\n"
          ]
        }
      ],
      "source": [
        "import numpy as np\n",
        "\n",
        "l1 = [1,2,3]\n",
        "l2 = [4,5,6]\n",
        "\n",
        "A1 = np.array(l1, np.int8)\n",
        "A2 = np.array(l2, np.int8)\n",
        "\n",
        "A = A1*A2\n",
        "\n",
        "print(f\"{A1} * {A2} = {A}\")\n",
        "\n",
        "print(f\"The type of array using type: {type(A)}\")\n",
        "print(f\"The type of array using dtype: {A.dtype}\") # no () with dtype because it is an attribute of A not a function\n",
        "\n",
        "print(f\"The dimension of an array: {A.shape}\")\n",
        "\n",
        "print(f\"The size of an array: {A.size}\") # The size attrubute counts the total element in the array"
      ]
    },
    {
      "cell_type": "code",
      "execution_count": 14,
      "metadata": {
        "trusted": true
      },
      "outputs": [],
      "source": [
        "#Example 5"
      ]
    },
    {
      "cell_type": "code",
      "execution_count": 15,
      "metadata": {
        "trusted": true
      },
      "outputs": [
        {
          "name": "stdout",
          "output_type": "stream",
          "text": [
            " The 2D array is : \n",
            " [[1 2 3]\n",
            " [4 5 6]]\n",
            "The type of array using type: <class 'numpy.ndarray'>\n",
            "The type of array using dtype: int32\n",
            "The dimension of an array: (2, 3)\n",
            "The size of an array: 6\n"
          ]
        }
      ],
      "source": [
        "import numpy as np\n",
        "\n",
        "l1 = [1,2,3]\n",
        "l2 = [4,5,6]\n",
        "\n",
        "A = np.array((l1, l2))\n",
        "print(f\" The 2D array is : \\n {A}\")\n",
        "\n",
        "print(f\"The type of array using type: {type(A)}\")\n",
        "print(f\"The type of array using dtype: {A.dtype}\") # no () with dtype because it is an attribute of A not a function\n",
        "\n",
        "print(f\"The dimension of an array: {A.shape}\")\n",
        "\n",
        "print(f\"The size of an array: {A.size}\") # The size attrubute counts the total element in the array"
      ]
    },
    {
      "cell_type": "code",
      "execution_count": 16,
      "metadata": {
        "trusted": true
      },
      "outputs": [],
      "source": [
        "#Example 06"
      ]
    },
    {
      "cell_type": "code",
      "execution_count": 17,
      "metadata": {
        "trusted": true
      },
      "outputs": [
        {
          "name": "stdout",
          "output_type": "stream",
          "text": [
            " The 1D array is : \n",
            " [1 2 3 4 5]\n",
            "The type of array using type: <class 'numpy.ndarray'>\n",
            "The type of array using dtype: int32\n",
            "The dimension of an array: (5,)\n",
            "The size of an array: 5\n"
          ]
        }
      ],
      "source": [
        "A = np.array(([1,2,3,4,5]))\n",
        "print(f\" The 1D array is : \\n {A}\")\n",
        "\n",
        "print(f\"The type of array using type: {type(A)}\")\n",
        "print(f\"The type of array using dtype: {A.dtype}\") # no () with dtype because it is an attribute of A not a function\n",
        "\n",
        "print(f\"The dimension of an array: {A.shape}\")\n",
        "\n",
        "print(f\"The size of an array: {A.size}\") # The size attrubute counts the total element in the array"
      ]
    },
    {
      "cell_type": "code",
      "execution_count": 18,
      "metadata": {
        "trusted": true
      },
      "outputs": [],
      "source": [
        "#Example 7"
      ]
    },
    {
      "cell_type": "code",
      "execution_count": 19,
      "metadata": {
        "trusted": true
      },
      "outputs": [
        {
          "name": "stdout",
          "output_type": "stream",
          "text": [
            " The 2D array is : \n",
            " [[1 2 3 4 5]\n",
            " [2 3 4 5 6]]\n",
            "The type of array using type: <class 'numpy.ndarray'>\n",
            "The type of array using dtype: int32\n",
            "The dimension of an array: (2, 5)\n",
            "The size of an array: 10\n"
          ]
        }
      ],
      "source": [
        "import numpy as np\n",
        "\n",
        "A = np.array(([1,2,3,4,5], [2,3,4,5,6]))\n",
        "print(f\" The 2D array is : \\n {A}\")\n",
        "\n",
        "print(f\"The type of array using type: {type(A)}\")\n",
        "print(f\"The type of array using dtype: {A.dtype}\") # no () with dtype because it is an attribute of A not a function\n",
        "\n",
        "print(f\"The dimension of an array: {A.shape}\")\n",
        "\n",
        "print(f\"The size of an array: {A.size}\") # The size attrubute counts the total element in the array"
      ]
    },
    {
      "cell_type": "code",
      "execution_count": 20,
      "metadata": {
        "trusted": true
      },
      "outputs": [],
      "source": [
        "#Example 8"
      ]
    },
    {
      "cell_type": "code",
      "execution_count": 21,
      "metadata": {
        "trusted": true
      },
      "outputs": [
        {
          "name": "stdout",
          "output_type": "stream",
          "text": [
            " The array is : \n",
            " [[1 2 3 4]\n",
            " [3 6 3 4]\n",
            " [1 2 9 4]\n",
            " [1 4 5 4]]\n",
            "The type of array using type: <class 'numpy.ndarray'>\n",
            "The type of array using dtype: int32\n",
            "The dimension of an array: (4, 4)\n",
            "The size of an array: 16\n"
          ]
        }
      ],
      "source": [
        "import numpy as np\n",
        "\n",
        "r1 = [1,2,3,4]\n",
        "r2 = [3,6,3,4]\n",
        "r3 = [1,2,9,4]\n",
        "r4 = [1,4,5,4]\n",
        "\n",
        "A = np.array((r1,r2,r3,r4))\n",
        "print(f\" The array is : \\n {A}\")\n",
        "\n",
        "print(f\"The type of array using type: {type(A)}\")\n",
        "print(f\"The type of array using dtype: {A.dtype}\") # no () with dtype because it is an attribute of A not a function\n",
        "\n",
        "print(f\"The dimension of an array: {A.shape}\")\n",
        "\n",
        "print(f\"The size of an array: {A.size}\") # The size attrubute counts the total element in the array"
      ]
    },
    {
      "cell_type": "code",
      "execution_count": 22,
      "metadata": {
        "trusted": true
      },
      "outputs": [],
      "source": [
        "#Example 9"
      ]
    },
    {
      "cell_type": "code",
      "execution_count": 23,
      "metadata": {
        "trusted": true
      },
      "outputs": [
        {
          "name": "stdout",
          "output_type": "stream",
          "text": [
            " The original array is : \n",
            " [[1 2 3 4]\n",
            " [3 6 3 4]\n",
            " [1 2 9 4]\n",
            " [1 4 5 4]]\n",
            " The array after replacing : \n",
            " [[ 1  2  3  4]\n",
            " [ 3  6 10  4]\n",
            " [ 1  2  9  4]\n",
            " [ 1  4  5  4]]\n"
          ]
        }
      ],
      "source": [
        "import numpy as np\n",
        "\n",
        "r1 = [1,2,3,4]\n",
        "r2 = [3,6,3,4]\n",
        "r3 = [1,2,9,4]\n",
        "r4 = [1,4,5,4]\n",
        "\n",
        "A = np.array((r1,r2,r3,r4))\n",
        "print(f\" The original array is : \\n {A}\")\n",
        "\n",
        "A[1,2] = 10\n",
        "print(f\" The array after replacing : \\n {A}\")"
      ]
    },
    {
      "cell_type": "code",
      "execution_count": 24,
      "metadata": {
        "trusted": true
      },
      "outputs": [],
      "source": [
        "#Example 10"
      ]
    },
    {
      "cell_type": "code",
      "execution_count": 25,
      "metadata": {
        "trusted": true
      },
      "outputs": [
        {
          "name": "stdout",
          "output_type": "stream",
          "text": [
            " The array is : \n",
            " [[0. 0. 0. 0. 0.]\n",
            " [0. 0. 0. 0. 0.]\n",
            " [0. 0. 0. 0. 0.]\n",
            " [0. 0. 0. 0. 0.]\n",
            " [0. 0. 0. 0. 0.]]\n",
            "The type of array using type: <class 'numpy.ndarray'>\n",
            "The type of array using dtype: float64\n",
            "The dimension of an array: (5, 5)\n",
            "The size of an array: 25\n"
          ]
        }
      ],
      "source": [
        "import numpy as np\n",
        "\n",
        "A = np.zeros([5,5])\n",
        "print(f\" The array is : \\n {A}\")\n",
        "\n",
        "print(f\"The type of array using type: {type(A)}\")\n",
        "print(f\"The type of array using dtype: {A.dtype}\") # no () with dtype because it is an attribute of A not a function\n",
        "\n",
        "print(f\"The dimension of an array: {A.shape}\")\n",
        "\n",
        "print(f\"The size of an array: {A.size}\") # The size attrubute counts the total element in the array"
      ]
    },
    {
      "cell_type": "code",
      "execution_count": 26,
      "metadata": {
        "trusted": true
      },
      "outputs": [],
      "source": [
        "#Example 11"
      ]
    },
    {
      "cell_type": "code",
      "execution_count": 27,
      "metadata": {
        "trusted": true
      },
      "outputs": [
        {
          "name": "stdout",
          "output_type": "stream",
          "text": [
            " The array is : \n",
            " [0. 0. 0. 0. 0.]\n",
            "The type of array using type: <class 'numpy.ndarray'>\n",
            "The type of array using dtype: float64\n",
            "The dimension of an array: (5,)\n",
            "The size of an array: 5\n"
          ]
        }
      ],
      "source": [
        "import numpy as np\n",
        "\n",
        "A = np.zeros([5])\n",
        "print(f\" The array is : \\n {A}\")\n",
        "\n",
        "print(f\"The type of array using type: {type(A)}\")\n",
        "print(f\"The type of array using dtype: {A.dtype}\") # no () with dtype because it is an attribute of A not a function\n",
        "\n",
        "print(f\"The dimension of an array: {A.shape}\")\n",
        "\n",
        "print(f\"The size of an array: {A.size}\") # The size attrubute counts the total element in the array"
      ]
    },
    {
      "cell_type": "code",
      "execution_count": 28,
      "metadata": {
        "trusted": true
      },
      "outputs": [],
      "source": [
        "#example 12"
      ]
    },
    {
      "cell_type": "code",
      "execution_count": 29,
      "metadata": {
        "trusted": true
      },
      "outputs": [
        {
          "name": "stdout",
          "output_type": "stream",
          "text": [
            " The array is : \n",
            " [ 1  2  3  4  5  6  7  8  9 10 11 12 13 14 15 16 17 18 19 20 21 22 23 24\n",
            " 25 26 27 28 29 30 31 32 33 34 35 36 37 38 39 40 41 42 43 44 45 46 47 48\n",
            " 49 50 51 52 53 54 55 56 57 58 59 60 61 62 63 64 65 66 67 68 69 70 71 72\n",
            " 73 74 75 76 77 78 79 80 81 82 83 84 85 86 87 88 89 90 91 92 93 94 95 96\n",
            " 97 98 99]\n",
            "The type of array using type: <class 'numpy.ndarray'>\n",
            "The type of array using dtype: int32\n",
            "The dimension of an array: (99,)\n",
            "The size of an array: 99\n"
          ]
        }
      ],
      "source": [
        "import numpy as np\n",
        "\n",
        "A = np.arange(1,100)\n",
        "print(f\" The array is : \\n {A}\")\n",
        "\n",
        "print(f\"The type of array using type: {type(A)}\")\n",
        "print(f\"The type of array using dtype: {A.dtype}\") # no () with dtype because it is an attribute of A not a function\n",
        "\n",
        "print(f\"The dimension of an array: {A.shape}\")\n",
        "\n",
        "print(f\"The size of an array: {A.size}\") # The size attrubute counts the total element in the array"
      ]
    },
    {
      "cell_type": "code",
      "execution_count": 30,
      "metadata": {
        "trusted": true
      },
      "outputs": [],
      "source": [
        "#Example 13"
      ]
    },
    {
      "cell_type": "code",
      "execution_count": 31,
      "metadata": {
        "trusted": true
      },
      "outputs": [
        {
          "name": "stdout",
          "output_type": "stream",
          "text": [
            " The array is : \n",
            " [ 1 11 21 31 41 51 61 71 81 91]\n",
            "The type of array using type: <class 'numpy.ndarray'>\n",
            "The type of array using dtype: int32\n",
            "The dimension of an array: (10,)\n",
            "The size of an array: 10\n"
          ]
        }
      ],
      "source": [
        "import numpy as np\n",
        "\n",
        "A = np.arange(1,100,10)\n",
        "print(f\" The array is : \\n {A}\")\n",
        "\n",
        "print(f\"The type of array using type: {type(A)}\")\n",
        "print(f\"The type of array using dtype: {A.dtype}\") # no () with dtype because it is an attribute of A not a function\n",
        "\n",
        "print(f\"The dimension of an array: {A.shape}\")\n",
        "\n",
        "print(f\"The size of an array: {A.size}\") # The size attrubute counts the total element in the array"
      ]
    },
    {
      "cell_type": "code",
      "execution_count": 32,
      "metadata": {
        "trusted": true
      },
      "outputs": [],
      "source": [
        "#Example 14"
      ]
    },
    {
      "cell_type": "code",
      "execution_count": 33,
      "metadata": {
        "trusted": true
      },
      "outputs": [
        {
          "name": "stdout",
          "output_type": "stream",
          "text": [
            " The array is : \n",
            " [2.         2.01010101 2.02020202 2.03030303 2.04040404 2.05050505\n",
            " 2.06060606 2.07070707 2.08080808 2.09090909 2.1010101  2.11111111\n",
            " 2.12121212 2.13131313 2.14141414 2.15151515 2.16161616 2.17171717\n",
            " 2.18181818 2.19191919 2.2020202  2.21212121 2.22222222 2.23232323\n",
            " 2.24242424 2.25252525 2.26262626 2.27272727 2.28282828 2.29292929\n",
            " 2.3030303  2.31313131 2.32323232 2.33333333 2.34343434 2.35353535\n",
            " 2.36363636 2.37373737 2.38383838 2.39393939 2.4040404  2.41414141\n",
            " 2.42424242 2.43434343 2.44444444 2.45454545 2.46464646 2.47474747\n",
            " 2.48484848 2.49494949 2.50505051 2.51515152 2.52525253 2.53535354\n",
            " 2.54545455 2.55555556 2.56565657 2.57575758 2.58585859 2.5959596\n",
            " 2.60606061 2.61616162 2.62626263 2.63636364 2.64646465 2.65656566\n",
            " 2.66666667 2.67676768 2.68686869 2.6969697  2.70707071 2.71717172\n",
            " 2.72727273 2.73737374 2.74747475 2.75757576 2.76767677 2.77777778\n",
            " 2.78787879 2.7979798  2.80808081 2.81818182 2.82828283 2.83838384\n",
            " 2.84848485 2.85858586 2.86868687 2.87878788 2.88888889 2.8989899\n",
            " 2.90909091 2.91919192 2.92929293 2.93939394 2.94949495 2.95959596\n",
            " 2.96969697 2.97979798 2.98989899 3.        ]\n",
            "The type of array using type: <class 'numpy.ndarray'>\n",
            "The type of array using dtype: float64\n",
            "The dimension of an array: (100,)\n",
            "The size of an array: 100\n"
          ]
        }
      ],
      "source": [
        "import numpy as np\n",
        "\n",
        "A = np.linspace(2,3,100)\n",
        "print(f\" The array is : \\n {A}\")\n",
        "\n",
        "print(f\"The type of array using type: {type(A)}\")\n",
        "print(f\"The type of array using dtype: {A.dtype}\") # no () with dtype because it is an attribute of A not a function\n",
        "\n",
        "print(f\"The dimension of an array: {A.shape}\")\n",
        "\n",
        "print(f\"The size of an array: {A.size}\") # The size attrubute counts the total element in the array"
      ]
    },
    {
      "cell_type": "code",
      "execution_count": 34,
      "metadata": {
        "trusted": true
      },
      "outputs": [],
      "source": [
        "#Example 15"
      ]
    },
    {
      "cell_type": "code",
      "execution_count": 35,
      "metadata": {
        "trusted": true
      },
      "outputs": [
        {
          "name": "stdout",
          "output_type": "stream",
          "text": [
            " The array is : \n",
            " [[1. 0. 0. 0. 0.]\n",
            " [0. 1. 0. 0. 0.]\n",
            " [0. 0. 1. 0. 0.]\n",
            " [0. 0. 0. 1. 0.]\n",
            " [0. 0. 0. 0. 1.]]\n",
            "The type of array using type: <class 'numpy.ndarray'>\n",
            "The type of array using dtype: float64\n",
            "The dimension of an array: (5, 5)\n",
            "The size of an array: 25\n"
          ]
        }
      ],
      "source": [
        "import numpy as np\n",
        "\n",
        "A = np.identity(5)\n",
        "print(f\" The array is : \\n {A}\")\n",
        "\n",
        "print(f\"The type of array using type: {type(A)}\")\n",
        "print(f\"The type of array using dtype: {A.dtype}\") # no () with dtype because it is an attribute of A not a function\n",
        "\n",
        "print(f\"The dimension of an array: {A.shape}\")\n",
        "\n",
        "print(f\"The size of an array: {A.size}\") # The size attrubute counts the total element in the array"
      ]
    },
    {
      "cell_type": "code",
      "execution_count": 36,
      "metadata": {
        "trusted": true
      },
      "outputs": [],
      "source": [
        "#Example 16"
      ]
    },
    {
      "cell_type": "code",
      "execution_count": 37,
      "metadata": {
        "trusted": true
      },
      "outputs": [
        {
          "name": "stdout",
          "output_type": "stream",
          "text": [
            " The Matrix is : \n",
            " [[1 2 3 4]\n",
            " [3 6 3 4]\n",
            " [1 2 9 4]\n",
            " [1 4 5 4]]\n",
            " The row wise sum is : [10 16 16 14]\n",
            " The column wise sum is : [ 6 14 20 16]\n",
            "The type of array using type: <class 'numpy.ndarray'>\n",
            "The type of array using dtype: int32\n",
            "The dimension of an array: (4, 4)\n",
            "The size of an array: 16\n"
          ]
        }
      ],
      "source": [
        "import numpy as np\n",
        "\n",
        "r1 = [1,2,3,4]\n",
        "r2 = [3,6,3,4]\n",
        "r3 = [1,2,9,4]\n",
        "r4 = [1,4,5,4]\n",
        "\n",
        "A = np.array((r1,r2,r3,r4))\n",
        "print(f\" The Matrix is : \\n {A}\")\n",
        "\n",
        "print(f\" The row wise sum is : {A.sum(axis=1)}\")\n",
        "print(f\" The column wise sum is : {A.sum(axis=0)}\")\n",
        "\n",
        "print(f\"The type of array using type: {type(A)}\")\n",
        "print(f\"The type of array using dtype: {A.dtype}\") # no () with dtype because it is an attribute of A not a function\n",
        "\n",
        "print(f\"The dimension of an array: {A.shape}\")\n",
        "\n",
        "print(f\"The size of an array: {A.size}\") # The size attrubute counts the total element in the array"
      ]
    },
    {
      "cell_type": "code",
      "execution_count": 38,
      "metadata": {
        "trusted": true
      },
      "outputs": [],
      "source": [
        "#Example 17"
      ]
    },
    {
      "cell_type": "code",
      "execution_count": 39,
      "metadata": {
        "trusted": true
      },
      "outputs": [
        {
          "name": "stdout",
          "output_type": "stream",
          "text": [
            " The Matrix is : \n",
            " [[1 2 3 4]\n",
            " [3 6 3 4]\n",
            " [1 2 9 4]\n",
            " [1 4 5 4]]\n",
            " The transpose is : \n",
            " [[1 3 1 1]\n",
            " [2 6 2 4]\n",
            " [3 3 9 5]\n",
            " [4 4 4 4]]\n"
          ]
        }
      ],
      "source": [
        "import numpy as np\n",
        "\n",
        "r1 = [1,2,3,4]\n",
        "r2 = [3,6,3,4]\n",
        "r3 = [1,2,9,4]\n",
        "r4 = [1,4,5,4]\n",
        "\n",
        "A = np.array((r1,r2,r3,r4))\n",
        "print(f\" The Matrix is : \\n {A}\")\n",
        "\n",
        "print(f\" The transpose is : \\n {A.T}\")"
      ]
    },
    {
      "cell_type": "code",
      "execution_count": 40,
      "metadata": {
        "trusted": true
      },
      "outputs": [],
      "source": [
        "#Example 18"
      ]
    },
    {
      "cell_type": "code",
      "execution_count": 41,
      "metadata": {
        "trusted": true
      },
      "outputs": [
        {
          "name": "stdout",
          "output_type": "stream",
          "text": [
            " The 4x4 Matrix is : \n",
            " [[1 2 3 4]\n",
            " [3 6 3 4]\n",
            " [1 2 9 4]\n",
            " [1 4 5 4]]\n",
            " The 8x2 matrix: \n",
            " [[1 2]\n",
            " [3 4]\n",
            " [3 6]\n",
            " [3 4]\n",
            " [1 2]\n",
            " [9 4]\n",
            " [1 4]\n",
            " [5 4]]\n"
          ]
        }
      ],
      "source": [
        "import numpy as np\n",
        "\n",
        "r1 = [1,2,3,4]\n",
        "r2 = [3,6,3,4]\n",
        "r3 = [1,2,9,4]\n",
        "r4 = [1,4,5,4]\n",
        "\n",
        "A = np.array((r1,r2,r3,r4))\n",
        "print(f\" The 4x4 Matrix is : \\n {A}\")\n",
        "\n",
        "print(f\" The 8x2 matrix: \\n {A.reshape(8,2)}\")"
      ]
    },
    {
      "cell_type": "code",
      "execution_count": 42,
      "metadata": {
        "trusted": true
      },
      "outputs": [],
      "source": [
        "#Example 19"
      ]
    },
    {
      "cell_type": "code",
      "execution_count": 43,
      "metadata": {
        "trusted": true
      },
      "outputs": [
        {
          "name": "stdout",
          "output_type": "stream",
          "text": [
            " The 4x4 Matrix is : \n",
            " [[1 2 3 4]\n",
            " [3 6 3 4]\n",
            " [1 2 9 4]\n",
            " [1 4 5 4]]\n",
            " The 1D array from above matrix using ravel: \n",
            " [1 2 3 4 3 6 3 4 1 2 9 4 1 4 5 4]\n"
          ]
        }
      ],
      "source": [
        "import numpy as np\n",
        "\n",
        "r1 = [1,2,3,4]\n",
        "r2 = [3,6,3,4]\n",
        "r3 = [1,2,9,4]\n",
        "r4 = [1,4,5,4]\n",
        "\n",
        "A = np.array((r1,r2,r3,r4))\n",
        "print(f\" The 4x4 Matrix is : \\n {A}\")\n",
        "\n",
        "print(f\" The 1D array from above matrix using ravel: \\n {A.ravel()}\")"
      ]
    },
    {
      "cell_type": "code",
      "execution_count": 44,
      "metadata": {
        "trusted": true
      },
      "outputs": [],
      "source": [
        "#Example 20"
      ]
    },
    {
      "cell_type": "code",
      "execution_count": 45,
      "metadata": {
        "trusted": true
      },
      "outputs": [
        {
          "name": "stdout",
          "output_type": "stream",
          "text": [
            "The original array: [ 1 16 31  4]\n",
            "The index of maximum value in array is: 2\n",
            "The index of minimum value in array is: 0\n",
            "Sorted Indexes: [0 3 1 2]\n"
          ]
        }
      ],
      "source": [
        "import numpy as np\n",
        "\n",
        "a = [1, 16, 31, 4]\n",
        "\n",
        "A = np.array(a)\n",
        "print(f\"The original array: {A}\")\n",
        "\n",
        "print(f\"The index of maximum value in array is: {A.argmax()}\")\n",
        "print(f\"The index of minimum value in array is: {A.argmin()}\")\n",
        "print(f\"Sorted Indexes: {A.argsort()}\")"
      ]
    },
    {
      "cell_type": "code",
      "execution_count": 46,
      "metadata": {
        "trusted": true
      },
      "outputs": [],
      "source": [
        "#Example 21"
      ]
    },
    {
      "cell_type": "code",
      "execution_count": 47,
      "metadata": {
        "trusted": true
      },
      "outputs": [
        {
          "data": {
            "text/plain": [
              "array([[5, 5],\n",
              "       [5, 5]])"
            ]
          },
          "execution_count": 47,
          "metadata": {},
          "output_type": "execute_result"
        }
      ],
      "source": [
        "import numpy as np\n",
        "\n",
        "f1=np.full((2,2),5)\n",
        "f1"
      ]
    },
    {
      "cell_type": "code",
      "execution_count": null,
      "metadata": {
        "trusted": true
      },
      "outputs": [],
      "source": []
    },
    {
      "cell_type": "code",
      "execution_count": 48,
      "metadata": {
        "trusted": true
      },
      "outputs": [
        {
          "data": {
            "text/plain": [
              "array([[3, 3],\n",
              "       [3, 3]])"
            ]
          },
          "execution_count": 48,
          "metadata": {},
          "output_type": "execute_result"
        }
      ],
      "source": [
        "f2 = np.full((2,2), 3)\n",
        "f2"
      ]
    },
    {
      "cell_type": "code",
      "execution_count": 49,
      "metadata": {
        "trusted": true
      },
      "outputs": [
        {
          "data": {
            "text/plain": [
              "array([[5, 5],\n",
              "       [5, 5],\n",
              "       [3, 3],\n",
              "       [3, 3]])"
            ]
          },
          "execution_count": 49,
          "metadata": {},
          "output_type": "execute_result"
        }
      ],
      "source": [
        "a = np.vstack([f1, f2])\n",
        "a"
      ]
    },
    {
      "cell_type": "code",
      "execution_count": 50,
      "metadata": {
        "trusted": true
      },
      "outputs": [
        {
          "data": {
            "text/plain": [
              "array([[5, 5, 3, 3],\n",
              "       [5, 5, 3, 3]])"
            ]
          },
          "execution_count": 50,
          "metadata": {},
          "output_type": "execute_result"
        }
      ],
      "source": [
        "b = np.hstack([f1, f2])\n",
        "b"
      ]
    },
    {
      "cell_type": "code",
      "execution_count": 51,
      "metadata": {
        "trusted": true
      },
      "outputs": [
        {
          "data": {
            "text/plain": [
              "array([[5, 5, 3, 3],\n",
              "       [5, 5, 3, 3]])"
            ]
          },
          "execution_count": 51,
          "metadata": {},
          "output_type": "execute_result"
        }
      ],
      "source": [
        "a = np.column_stack([f1, f2])\n",
        "a"
      ]
    },
    {
      "cell_type": "code",
      "execution_count": 52,
      "metadata": {
        "trusted": true
      },
      "outputs": [],
      "source": [
        "#Example 22"
      ]
    },
    {
      "cell_type": "code",
      "execution_count": 53,
      "metadata": {
        "trusted": true
      },
      "outputs": [
        {
          "data": {
            "text/plain": [
              "array([[5, 5, 5],\n",
              "       [5, 5, 5]])"
            ]
          },
          "execution_count": 53,
          "metadata": {},
          "output_type": "execute_result"
        }
      ],
      "source": [
        "import numpy as np\n",
        "\n",
        "a = np.full((2,3), 5)\n",
        "a"
      ]
    },
    {
      "cell_type": "code",
      "execution_count": 54,
      "metadata": {
        "trusted": true
      },
      "outputs": [],
      "source": [
        "#Example 23"
      ]
    },
    {
      "cell_type": "code",
      "execution_count": 55,
      "metadata": {
        "trusted": true
      },
      "outputs": [
        {
          "name": "stdout",
          "output_type": "stream",
          "text": [
            "\n",
            "f1 = \n",
            " [[5 5]\n",
            " [5 5]]\n",
            "\n",
            "f2 = \n",
            " [[3 3]\n",
            " [3 3]]\n",
            "point to point multiplication =  [[15 15]\n",
            " [15 15]]\n",
            "point to point multiplication =  [[30 30]\n",
            " [30 30]]\n"
          ]
        }
      ],
      "source": [
        "import numpy as np\n",
        "\n",
        "f1=np. full((2,2),5)\n",
        "print(\"\\nf1 = \\n\",f1)\n",
        "\n",
        "f2=np.full((2,2), 3)\n",
        "print(\"\\nf2 = \\n\", f2)\n",
        "\n",
        "print(\"point to point multiplication = \",f1*f2)\n",
        "\n",
        "print(\"point to point multiplication = \", np.dot(f1,f2))\n",
        "#the numpy. dot() function is used to compute the dot product of two arrays."
      ]
    },
    {
      "cell_type": "code",
      "execution_count": 56,
      "metadata": {
        "trusted": true
      },
      "outputs": [],
      "source": [
        "#02. Pandas\n",
        "#Example 01"
      ]
    },
    {
      "cell_type": "code",
      "execution_count": 57,
      "metadata": {
        "trusted": true
      },
      "outputs": [
        {
          "data": {
            "text/plain": [
              "{'Name': ['Aqsa',\n",
              "  'Esha',\n",
              "  'Ayesha',\n",
              "  'Ayra',\n",
              "  'Arfa',\n",
              "  'Afsa',\n",
              "  'Abdul',\n",
              "  'Saadia',\n",
              "  'Abu Bakar',\n",
              "  'Atif'],\n",
              " 'ID': ['SID-1',\n",
              "  'SID-2',\n",
              "  'SID-3',\n",
              "  'SID-4',\n",
              "  'SID-5',\n",
              "  'SID-6',\n",
              "  'SID-7',\n",
              "  'SID-8',\n",
              "  'SID-9',\n",
              "  'SID-10'],\n",
              " 'Rol1_no': [1, 2, 3, 4, 5, 6, 7, 8, 9, 10],\n",
              " 'Semester': [7, 7, 7, 7, 6, 6, 6, 5, 8, 8]}"
            ]
          },
          "execution_count": 57,
          "metadata": {},
          "output_type": "execute_result"
        }
      ],
      "source": [
        "StuDict={\"Name\": [\"Aqsa\",\"Esha\", \"Ayesha\", \"Ayra\", \"Arfa\", \"Afsa\", \"Abdul\", \"Saadia\", \"Abu Bakar\",\"Atif\"],\n",
        "\"ID\": [\"SID-1\",\"SID-2\", \"SID-3\", \"SID-4\", \"SID-5\",\"SID-6\", \"SID-7\", \"SID-8\", \"SID-9\",\"SID-10\"],\n",
        "\"Rol1_no\": [1,2,3,4,5,6,7,8,9,10],\n",
        "\"Semester\" : [7,7,7,7,6,6,6,5,8,8]}\n",
        "\n",
        "StuDict"
      ]
    },
    {
      "cell_type": "code",
      "execution_count": 58,
      "metadata": {
        "trusted": true
      },
      "outputs": [
        {
          "name": "stdout",
          "output_type": "stream",
          "text": [
            "        Name      ID  Rol1_no  Semester\n",
            "0       Aqsa   SID-1        1         7\n",
            "1       Esha   SID-2        2         7\n",
            "2     Ayesha   SID-3        3         7\n",
            "3       Ayra   SID-4        4         7\n",
            "4       Arfa   SID-5        5         6\n",
            "5       Afsa   SID-6        6         6\n",
            "6      Abdul   SID-7        7         6\n",
            "7     Saadia   SID-8        8         5\n",
            "8  Abu Bakar   SID-9        9         8\n",
            "9       Atif  SID-10       10         8\n",
            "\n",
            "\n",
            "The data type of above given syntax is : <class 'pandas.core.frame.DataFrame'>\n"
          ]
        }
      ],
      "source": [
        "#convert into data frames\n",
        "\n",
        "import pandas as pd\n",
        "\n",
        "data=pd.DataFrame (StuDict)\n",
        "#Pandas DataFrame consists of three principal components, the data, rows, and columns.\n",
        "print(data)\n",
        "\n",
        "print(\"\\n\\nThe data type of above given syntax is :\",type (data))"
      ]
    },
    {
      "cell_type": "code",
      "execution_count": 59,
      "metadata": {
        "trusted": true
      },
      "outputs": [],
      "source": [
        "#Example 02\n",
        "#Demonstrate the use of describe function for a data frame"
      ]
    },
    {
      "cell_type": "code",
      "execution_count": 60,
      "metadata": {
        "trusted": true
      },
      "outputs": [
        {
          "name": "stdout",
          "output_type": "stream",
          "text": [
            "        Rol1_no   Semester\n",
            "count  10.00000  10.000000\n",
            "mean    5.50000   6.700000\n",
            "std     3.02765   0.948683\n",
            "min     1.00000   5.000000\n",
            "25%     3.25000   6.000000\n",
            "50%     5.50000   7.000000\n",
            "75%     7.75000   7.000000\n",
            "max    10.00000   8.000000\n"
          ]
        }
      ],
      "source": [
        "print(data.describe())\n",
        "#Pandas describe() is used to view some basic statistical details like percentile, mean, std, etc. \n",
        "#of a data frame or a series of numeric values."
      ]
    },
    {
      "cell_type": "code",
      "execution_count": 61,
      "metadata": {
        "trusted": true
      },
      "outputs": [],
      "source": [
        "#Example 03\n",
        "#Demonstrate the use of head function for a data frame"
      ]
    },
    {
      "cell_type": "code",
      "execution_count": 62,
      "metadata": {
        "trusted": true
      },
      "outputs": [
        {
          "name": "stdout",
          "output_type": "stream",
          "text": [
            "     Name     ID  Rol1_no  Semester\n",
            "0    Aqsa  SID-1        1         7\n",
            "1    Esha  SID-2        2         7\n",
            "2  Ayesha  SID-3        3         7\n",
            "3    Ayra  SID-4        4         7\n",
            "4    Arfa  SID-5        5         6\n"
          ]
        }
      ],
      "source": [
        "print(data.head())\n",
        "#Pandas Dataframe. head() function is used to print the first 'n' rows of the Dataframe. "
      ]
    },
    {
      "cell_type": "code",
      "execution_count": 63,
      "metadata": {
        "trusted": true
      },
      "outputs": [],
      "source": [
        "#Example 4"
      ]
    },
    {
      "cell_type": "code",
      "execution_count": 64,
      "metadata": {
        "trusted": true
      },
      "outputs": [
        {
          "name": "stdout",
          "output_type": "stream",
          "text": [
            "        Name      ID  Rol1_no  Semester\n",
            "5       Afsa   SID-6        6         6\n",
            "6      Abdul   SID-7        7         6\n",
            "7     Saadia   SID-8        8         5\n",
            "8  Abu Bakar   SID-9        9         8\n",
            "9       Atif  SID-10       10         8\n"
          ]
        }
      ],
      "source": [
        "print(data.tail())\n",
        "#The tail() function is used to get the last n rows. \n",
        "#This function returns last n rows from the object based on position."
      ]
    },
    {
      "cell_type": "code",
      "execution_count": 65,
      "metadata": {
        "trusted": true
      },
      "outputs": [],
      "source": [
        "#Example 5"
      ]
    },
    {
      "cell_type": "code",
      "execution_count": 66,
      "metadata": {
        "trusted": true
      },
      "outputs": [
        {
          "name": "stdout",
          "output_type": "stream",
          "text": [
            "<class 'pandas.core.frame.DataFrame'>\n",
            "RangeIndex: 10 entries, 0 to 9\n",
            "Data columns (total 4 columns):\n",
            " #   Column    Non-Null Count  Dtype \n",
            "---  ------    --------------  ----- \n",
            " 0   Name      10 non-null     object\n",
            " 1   ID        10 non-null     object\n",
            " 2   Rol1_no   10 non-null     int64 \n",
            " 3   Semester  10 non-null     int64 \n",
            "dtypes: int64(2), object(2)\n",
            "memory usage: 452.0+ bytes\n",
            "None\n"
          ]
        }
      ],
      "source": [
        "print(data.info())"
      ]
    },
    {
      "cell_type": "code",
      "execution_count": 67,
      "metadata": {
        "trusted": true
      },
      "outputs": [],
      "source": [
        "#Example 06\n",
        "#Convert the data frame in a variable to CSV file"
      ]
    },
    {
      "cell_type": "code",
      "execution_count": 68,
      "metadata": {
        "trusted": true
      },
      "outputs": [],
      "source": [
        "data.to_csv('student.csv')"
      ]
    },
    {
      "cell_type": "code",
      "execution_count": 69,
      "metadata": {
        "trusted": true
      },
      "outputs": [],
      "source": [
        "#Example 08\n",
        "#Read from csv file"
      ]
    },
    {
      "cell_type": "code",
      "execution_count": 70,
      "metadata": {
        "trusted": true
      },
      "outputs": [
        {
          "data": {
            "text/html": [
              "<div>\n",
              "<style scoped>\n",
              "    .dataframe tbody tr th:only-of-type {\n",
              "        vertical-align: middle;\n",
              "    }\n",
              "\n",
              "    .dataframe tbody tr th {\n",
              "        vertical-align: top;\n",
              "    }\n",
              "\n",
              "    .dataframe thead th {\n",
              "        text-align: right;\n",
              "    }\n",
              "</style>\n",
              "<table border=\"1\" class=\"dataframe\">\n",
              "  <thead>\n",
              "    <tr style=\"text-align: right;\">\n",
              "      <th></th>\n",
              "      <th>Unnamed: 0</th>\n",
              "      <th>Name</th>\n",
              "      <th>ID</th>\n",
              "      <th>Rol1_no</th>\n",
              "      <th>Semester</th>\n",
              "    </tr>\n",
              "  </thead>\n",
              "  <tbody>\n",
              "    <tr>\n",
              "      <th>0</th>\n",
              "      <td>0</td>\n",
              "      <td>Aqsa</td>\n",
              "      <td>SID-1</td>\n",
              "      <td>1</td>\n",
              "      <td>7</td>\n",
              "    </tr>\n",
              "    <tr>\n",
              "      <th>1</th>\n",
              "      <td>1</td>\n",
              "      <td>Esha</td>\n",
              "      <td>SID-2</td>\n",
              "      <td>2</td>\n",
              "      <td>7</td>\n",
              "    </tr>\n",
              "    <tr>\n",
              "      <th>2</th>\n",
              "      <td>2</td>\n",
              "      <td>Ayesha</td>\n",
              "      <td>SID-3</td>\n",
              "      <td>3</td>\n",
              "      <td>7</td>\n",
              "    </tr>\n",
              "    <tr>\n",
              "      <th>3</th>\n",
              "      <td>3</td>\n",
              "      <td>Ayra</td>\n",
              "      <td>SID-4</td>\n",
              "      <td>4</td>\n",
              "      <td>7</td>\n",
              "    </tr>\n",
              "    <tr>\n",
              "      <th>4</th>\n",
              "      <td>4</td>\n",
              "      <td>Arfa</td>\n",
              "      <td>SID-5</td>\n",
              "      <td>5</td>\n",
              "      <td>6</td>\n",
              "    </tr>\n",
              "    <tr>\n",
              "      <th>5</th>\n",
              "      <td>5</td>\n",
              "      <td>Afsa</td>\n",
              "      <td>SID-6</td>\n",
              "      <td>6</td>\n",
              "      <td>6</td>\n",
              "    </tr>\n",
              "    <tr>\n",
              "      <th>6</th>\n",
              "      <td>6</td>\n",
              "      <td>Abdul</td>\n",
              "      <td>SID-7</td>\n",
              "      <td>7</td>\n",
              "      <td>6</td>\n",
              "    </tr>\n",
              "    <tr>\n",
              "      <th>7</th>\n",
              "      <td>7</td>\n",
              "      <td>Saadia</td>\n",
              "      <td>SID-8</td>\n",
              "      <td>8</td>\n",
              "      <td>5</td>\n",
              "    </tr>\n",
              "    <tr>\n",
              "      <th>8</th>\n",
              "      <td>8</td>\n",
              "      <td>Abu Bakar</td>\n",
              "      <td>SID-9</td>\n",
              "      <td>9</td>\n",
              "      <td>8</td>\n",
              "    </tr>\n",
              "    <tr>\n",
              "      <th>9</th>\n",
              "      <td>9</td>\n",
              "      <td>Atif</td>\n",
              "      <td>SID-10</td>\n",
              "      <td>10</td>\n",
              "      <td>8</td>\n",
              "    </tr>\n",
              "  </tbody>\n",
              "</table>\n",
              "</div>"
            ],
            "text/plain": [
              "   Unnamed: 0       Name      ID  Rol1_no  Semester\n",
              "0           0       Aqsa   SID-1        1         7\n",
              "1           1       Esha   SID-2        2         7\n",
              "2           2     Ayesha   SID-3        3         7\n",
              "3           3       Ayra   SID-4        4         7\n",
              "4           4       Arfa   SID-5        5         6\n",
              "5           5       Afsa   SID-6        6         6\n",
              "6           6      Abdul   SID-7        7         6\n",
              "7           7     Saadia   SID-8        8         5\n",
              "8           8  Abu Bakar   SID-9        9         8\n",
              "9           9       Atif  SID-10       10         8"
            ]
          },
          "execution_count": 70,
          "metadata": {},
          "output_type": "execute_result"
        }
      ],
      "source": [
        "df = pd.read_csv('student.csv')\n",
        "df"
      ]
    },
    {
      "cell_type": "code",
      "execution_count": 71,
      "metadata": {
        "trusted": true
      },
      "outputs": [],
      "source": [
        "#Example 09\n",
        "#Use describe,head,tail and info function for CSV file"
      ]
    },
    {
      "cell_type": "code",
      "execution_count": 72,
      "metadata": {
        "trusted": true
      },
      "outputs": [
        {
          "name": "stdout",
          "output_type": "stream",
          "text": [
            "Describe Function \n",
            "        Unnamed: 0   Rol1_no   Semester\n",
            "count    10.00000  10.00000  10.000000\n",
            "mean      4.50000   5.50000   6.700000\n",
            "std       3.02765   3.02765   0.948683\n",
            "min       0.00000   1.00000   5.000000\n",
            "25%       2.25000   3.25000   6.000000\n",
            "50%       4.50000   5.50000   7.000000\n",
            "75%       6.75000   7.75000   7.000000\n",
            "max       9.00000  10.00000   8.000000, \n",
            " head Function \n",
            "    Unnamed: 0    Name     ID  Rol1_no  Semester\n",
            "0           0    Aqsa  SID-1        1         7\n",
            "1           1    Esha  SID-2        2         7\n",
            "2           2  Ayesha  SID-3        3         7\n",
            "3           3    Ayra  SID-4        4         7\n",
            "4           4    Arfa  SID-5        5         6 \n",
            " tail Function \n",
            "    Unnamed: 0       Name      ID  Rol1_no  Semester\n",
            "5           5       Afsa   SID-6        6         6\n",
            "6           6      Abdul   SID-7        7         6\n",
            "7           7     Saadia   SID-8        8         5\n",
            "8           8  Abu Bakar   SID-9        9         8\n",
            "9           9       Atif  SID-10       10         8\n",
            "<class 'pandas.core.frame.DataFrame'>\n",
            "RangeIndex: 10 entries, 0 to 9\n",
            "Data columns (total 5 columns):\n",
            " #   Column      Non-Null Count  Dtype \n",
            "---  ------      --------------  ----- \n",
            " 0   Unnamed: 0  10 non-null     int64 \n",
            " 1   Name        10 non-null     object\n",
            " 2   ID          10 non-null     object\n",
            " 3   Rol1_no     10 non-null     int64 \n",
            " 4   Semester    10 non-null     int64 \n",
            "dtypes: int64(3), object(2)\n",
            "memory usage: 532.0+ bytes\n",
            "\n",
            " info Function \n",
            " None\n"
          ]
        }
      ],
      "source": [
        "import pandas as pd\n",
        "df = pd.read_csv('student.csv')\n",
        "\n",
        "print(f\"Describe Function \\n {df.describe()}, \\n head Function \\n {df.head()} \\n tail Function \\n {df.tail()}\")\n",
        "print(f\"\\n info Function \\n {df.info()}\")"
      ]
    },
    {
      "cell_type": "code",
      "execution_count": 73,
      "metadata": {
        "trusted": true
      },
      "outputs": [],
      "source": [
        "#Example 10\n",
        "#Access a column by its name"
      ]
    },
    {
      "cell_type": "code",
      "execution_count": 74,
      "metadata": {
        "trusted": true
      },
      "outputs": [
        {
          "data": {
            "text/plain": [
              "0         Aqsa\n",
              "1         Esha\n",
              "2       Ayesha\n",
              "3         Ayra\n",
              "4         Arfa\n",
              "5         Afsa\n",
              "6        Abdul\n",
              "7       Saadia\n",
              "8    Abu Bakar\n",
              "9         Atif\n",
              "Name: Name, dtype: object"
            ]
          },
          "execution_count": 74,
          "metadata": {},
          "output_type": "execute_result"
        }
      ],
      "source": [
        "import pandas as pd\n",
        "\n",
        "df['Name']"
      ]
    },
    {
      "cell_type": "code",
      "execution_count": 75,
      "metadata": {
        "trusted": true
      },
      "outputs": [],
      "source": [
        "#Example 11\n",
        "#Access the 1st element of a column"
      ]
    },
    {
      "cell_type": "code",
      "execution_count": 76,
      "metadata": {
        "trusted": true
      },
      "outputs": [
        {
          "data": {
            "text/plain": [
              "'Aqsa'"
            ]
          },
          "execution_count": 76,
          "metadata": {},
          "output_type": "execute_result"
        }
      ],
      "source": [
        "df['Name'][0]"
      ]
    },
    {
      "cell_type": "code",
      "execution_count": 77,
      "metadata": {
        "trusted": true
      },
      "outputs": [],
      "source": [
        "#Example 12\n",
        "#Update the value in the column"
      ]
    },
    {
      "cell_type": "code",
      "execution_count": 78,
      "metadata": {
        "trusted": true
      },
      "outputs": [
        {
          "name": "stderr",
          "output_type": "stream",
          "text": [
            "C:\\Users\\Muhammad Akram\\AppData\\Local\\Temp\\ipykernel_1648\\2862899863.py:1: SettingWithCopyWarning: \n",
            "A value is trying to be set on a copy of a slice from a DataFrame\n",
            "\n",
            "See the caveats in the documentation: https://pandas.pydata.org/pandas-docs/stable/user_guide/indexing.html#returning-a-view-versus-a-copy\n",
            "  df['Name'][0] = 'Akram'\n"
          ]
        },
        {
          "data": {
            "text/html": [
              "<div>\n",
              "<style scoped>\n",
              "    .dataframe tbody tr th:only-of-type {\n",
              "        vertical-align: middle;\n",
              "    }\n",
              "\n",
              "    .dataframe tbody tr th {\n",
              "        vertical-align: top;\n",
              "    }\n",
              "\n",
              "    .dataframe thead th {\n",
              "        text-align: right;\n",
              "    }\n",
              "</style>\n",
              "<table border=\"1\" class=\"dataframe\">\n",
              "  <thead>\n",
              "    <tr style=\"text-align: right;\">\n",
              "      <th></th>\n",
              "      <th>Unnamed: 0</th>\n",
              "      <th>Name</th>\n",
              "      <th>ID</th>\n",
              "      <th>Rol1_no</th>\n",
              "      <th>Semester</th>\n",
              "    </tr>\n",
              "  </thead>\n",
              "  <tbody>\n",
              "    <tr>\n",
              "      <th>0</th>\n",
              "      <td>0</td>\n",
              "      <td>Akram</td>\n",
              "      <td>SID-1</td>\n",
              "      <td>1</td>\n",
              "      <td>7</td>\n",
              "    </tr>\n",
              "    <tr>\n",
              "      <th>1</th>\n",
              "      <td>1</td>\n",
              "      <td>Esha</td>\n",
              "      <td>SID-2</td>\n",
              "      <td>2</td>\n",
              "      <td>7</td>\n",
              "    </tr>\n",
              "    <tr>\n",
              "      <th>2</th>\n",
              "      <td>2</td>\n",
              "      <td>Ayesha</td>\n",
              "      <td>SID-3</td>\n",
              "      <td>3</td>\n",
              "      <td>7</td>\n",
              "    </tr>\n",
              "    <tr>\n",
              "      <th>3</th>\n",
              "      <td>3</td>\n",
              "      <td>Ayra</td>\n",
              "      <td>SID-4</td>\n",
              "      <td>4</td>\n",
              "      <td>7</td>\n",
              "    </tr>\n",
              "    <tr>\n",
              "      <th>4</th>\n",
              "      <td>4</td>\n",
              "      <td>Arfa</td>\n",
              "      <td>SID-5</td>\n",
              "      <td>5</td>\n",
              "      <td>6</td>\n",
              "    </tr>\n",
              "    <tr>\n",
              "      <th>5</th>\n",
              "      <td>5</td>\n",
              "      <td>Afsa</td>\n",
              "      <td>SID-6</td>\n",
              "      <td>6</td>\n",
              "      <td>6</td>\n",
              "    </tr>\n",
              "    <tr>\n",
              "      <th>6</th>\n",
              "      <td>6</td>\n",
              "      <td>Abdul</td>\n",
              "      <td>SID-7</td>\n",
              "      <td>7</td>\n",
              "      <td>6</td>\n",
              "    </tr>\n",
              "    <tr>\n",
              "      <th>7</th>\n",
              "      <td>7</td>\n",
              "      <td>Saadia</td>\n",
              "      <td>SID-8</td>\n",
              "      <td>8</td>\n",
              "      <td>5</td>\n",
              "    </tr>\n",
              "    <tr>\n",
              "      <th>8</th>\n",
              "      <td>8</td>\n",
              "      <td>Abu Bakar</td>\n",
              "      <td>SID-9</td>\n",
              "      <td>9</td>\n",
              "      <td>8</td>\n",
              "    </tr>\n",
              "    <tr>\n",
              "      <th>9</th>\n",
              "      <td>9</td>\n",
              "      <td>Atif</td>\n",
              "      <td>SID-10</td>\n",
              "      <td>10</td>\n",
              "      <td>8</td>\n",
              "    </tr>\n",
              "  </tbody>\n",
              "</table>\n",
              "</div>"
            ],
            "text/plain": [
              "   Unnamed: 0       Name      ID  Rol1_no  Semester\n",
              "0           0      Akram   SID-1        1         7\n",
              "1           1       Esha   SID-2        2         7\n",
              "2           2     Ayesha   SID-3        3         7\n",
              "3           3       Ayra   SID-4        4         7\n",
              "4           4       Arfa   SID-5        5         6\n",
              "5           5       Afsa   SID-6        6         6\n",
              "6           6      Abdul   SID-7        7         6\n",
              "7           7     Saadia   SID-8        8         5\n",
              "8           8  Abu Bakar   SID-9        9         8\n",
              "9           9       Atif  SID-10       10         8"
            ]
          },
          "execution_count": 78,
          "metadata": {},
          "output_type": "execute_result"
        }
      ],
      "source": [
        "df['Name'][0] = 'Akram'\n",
        "df"
      ]
    },
    {
      "cell_type": "code",
      "execution_count": 79,
      "metadata": {
        "trusted": true
      },
      "outputs": [],
      "source": [
        "#Example 13\n",
        "#Find the columns and indexes in a data frame"
      ]
    },
    {
      "cell_type": "code",
      "execution_count": 80,
      "metadata": {
        "trusted": true
      },
      "outputs": [
        {
          "data": {
            "text/plain": [
              "Index(['Unnamed: 0', 'Name', 'ID', 'Rol1_no', 'Semester'], dtype='object')"
            ]
          },
          "execution_count": 80,
          "metadata": {},
          "output_type": "execute_result"
        }
      ],
      "source": [
        "df.columns"
      ]
    },
    {
      "cell_type": "code",
      "execution_count": 81,
      "metadata": {
        "trusted": true
      },
      "outputs": [
        {
          "data": {
            "text/plain": [
              "RangeIndex(start=0, stop=10, step=1)"
            ]
          },
          "execution_count": 81,
          "metadata": {},
          "output_type": "execute_result"
        }
      ],
      "source": [
        "df.index"
      ]
    },
    {
      "cell_type": "code",
      "execution_count": 82,
      "metadata": {
        "trusted": true
      },
      "outputs": [],
      "source": [
        "#Example 14\n",
        "#Create a series of 50 random numbers and check their data type and shape"
      ]
    },
    {
      "cell_type": "code",
      "execution_count": 83,
      "metadata": {
        "trusted": true
      },
      "outputs": [
        {
          "name": "stdout",
          "output_type": "stream",
          "text": [
            "0     0.912634\n",
            "1     0.419307\n",
            "2     0.822689\n",
            "3     0.761838\n",
            "4     0.063886\n",
            "5     0.860331\n",
            "6     0.736826\n",
            "7     0.980177\n",
            "8     0.281229\n",
            "9     0.351907\n",
            "10    0.750715\n",
            "11    0.780155\n",
            "12    0.414695\n",
            "13    0.580363\n",
            "14    0.950997\n",
            "15    0.460996\n",
            "16    0.272776\n",
            "17    0.405191\n",
            "18    0.737212\n",
            "19    0.205580\n",
            "20    0.015844\n",
            "21    0.142373\n",
            "22    0.352087\n",
            "23    0.502492\n",
            "24    0.137978\n",
            "25    0.054302\n",
            "26    0.286089\n",
            "27    0.579225\n",
            "28    0.351470\n",
            "29    0.542847\n",
            "30    0.939079\n",
            "31    0.556700\n",
            "32    0.533886\n",
            "33    0.126763\n",
            "34    0.158139\n",
            "35    0.257605\n",
            "36    0.362343\n",
            "37    0.031501\n",
            "38    0.183954\n",
            "39    0.277629\n",
            "40    0.893215\n",
            "41    0.925558\n",
            "42    0.199757\n",
            "43    0.722566\n",
            "44    0.884628\n",
            "45    0.108286\n",
            "46    0.863535\n",
            "47    0.697782\n",
            "48    0.918129\n",
            "49    0.655357\n",
            "dtype: float64\n",
            "Using dtype: float64\n",
            "Using type: <class 'pandas.core.series.Series'>\n",
            "Using Shape: (50,)\n"
          ]
        }
      ],
      "source": [
        "import pandas as pd\n",
        "import numpy as np\n",
        "\n",
        "s = pd.Series(np.random.rand(50))\n",
        "print(s)\n",
        "print(f\"Using dtype: {s.dtype}\")\n",
        "print(f\"Using type: {type(s)}\")\n",
        "print(f\"Using Shape: {s.shape}\")"
      ]
    },
    {
      "cell_type": "code",
      "execution_count": 84,
      "metadata": {
        "trusted": true
      },
      "outputs": [],
      "source": [
        "#Example 15\n",
        "#Create a 50 x 5 data set from random values"
      ]
    },
    {
      "cell_type": "code",
      "execution_count": 85,
      "metadata": {
        "trusted": true
      },
      "outputs": [
        {
          "name": "stdout",
          "output_type": "stream",
          "text": [
            "0     0.912634\n",
            "1     0.419307\n",
            "2     0.822689\n",
            "3     0.761838\n",
            "4     0.063886\n",
            "5     0.860331\n",
            "6     0.736826\n",
            "7     0.980177\n",
            "8     0.281229\n",
            "9     0.351907\n",
            "10    0.750715\n",
            "11    0.780155\n",
            "12    0.414695\n",
            "13    0.580363\n",
            "14    0.950997\n",
            "15    0.460996\n",
            "16    0.272776\n",
            "17    0.405191\n",
            "18    0.737212\n",
            "19    0.205580\n",
            "20    0.015844\n",
            "21    0.142373\n",
            "22    0.352087\n",
            "23    0.502492\n",
            "24    0.137978\n",
            "25    0.054302\n",
            "26    0.286089\n",
            "27    0.579225\n",
            "28    0.351470\n",
            "29    0.542847\n",
            "30    0.939079\n",
            "31    0.556700\n",
            "32    0.533886\n",
            "33    0.126763\n",
            "34    0.158139\n",
            "35    0.257605\n",
            "36    0.362343\n",
            "37    0.031501\n",
            "38    0.183954\n",
            "39    0.277629\n",
            "40    0.893215\n",
            "41    0.925558\n",
            "42    0.199757\n",
            "43    0.722566\n",
            "44    0.884628\n",
            "45    0.108286\n",
            "46    0.863535\n",
            "47    0.697782\n",
            "48    0.918129\n",
            "49    0.655357\n",
            "dtype: float64\n"
          ]
        }
      ],
      "source": [
        "import pandas as pd\n",
        "import numpy as np\n",
        "\n",
        "dataf = pd.DataFrame(np.random.rand(50,5))\n",
        "print(s)"
      ]
    },
    {
      "cell_type": "code",
      "execution_count": 86,
      "metadata": {
        "trusted": true
      },
      "outputs": [],
      "source": [
        "#Example 16\n",
        "#Find the minimum maximum and mean values column wise in a dataset"
      ]
    },
    {
      "cell_type": "code",
      "execution_count": 87,
      "metadata": {
        "trusted": true
      },
      "outputs": [
        {
          "data": {
            "text/plain": [
              "0    0.036347\n",
              "1    0.060958\n",
              "2    0.054684\n",
              "3    0.034986\n",
              "4    0.000429\n",
              "dtype: float64"
            ]
          },
          "execution_count": 87,
          "metadata": {},
          "output_type": "execute_result"
        }
      ],
      "source": [
        "dataf.min()"
      ]
    },
    {
      "cell_type": "code",
      "execution_count": 88,
      "metadata": {
        "trusted": true
      },
      "outputs": [
        {
          "data": {
            "text/plain": [
              "0    0.994785\n",
              "1    0.982811\n",
              "2    0.997174\n",
              "3    0.995602\n",
              "4    0.977456\n",
              "dtype: float64"
            ]
          },
          "execution_count": 88,
          "metadata": {},
          "output_type": "execute_result"
        }
      ],
      "source": [
        "dataf.max()"
      ]
    },
    {
      "cell_type": "code",
      "execution_count": 89,
      "metadata": {
        "trusted": true
      },
      "outputs": [
        {
          "data": {
            "text/plain": [
              "0    0.458826\n",
              "1    0.526069\n",
              "2    0.527244\n",
              "3    0.478750\n",
              "4    0.468494\n",
              "dtype: float64"
            ]
          },
          "execution_count": 89,
          "metadata": {},
          "output_type": "execute_result"
        }
      ],
      "source": [
        "dataf.mean()"
      ]
    },
    {
      "cell_type": "code",
      "execution_count": 90,
      "metadata": {
        "trusted": true
      },
      "outputs": [],
      "source": [
        "#Example 17\n",
        "#Find the maximum value in 1st column"
      ]
    },
    {
      "cell_type": "code",
      "execution_count": 91,
      "metadata": {
        "trusted": true
      },
      "outputs": [
        {
          "data": {
            "text/plain": [
              "0.9947853558643246"
            ]
          },
          "execution_count": 91,
          "metadata": {},
          "output_type": "execute_result"
        }
      ],
      "source": [
        "dataf[0].max()"
      ]
    },
    {
      "cell_type": "code",
      "execution_count": 92,
      "metadata": {
        "trusted": true
      },
      "outputs": [],
      "source": [
        "#Example 18\n",
        "#Convert the dataset into numpy array and also take transpose of it"
      ]
    },
    {
      "cell_type": "code",
      "execution_count": 93,
      "metadata": {
        "trusted": true
      },
      "outputs": [
        {
          "data": {
            "text/plain": [
              "array([[7.11758317e-01, 7.02396853e-01, 4.40956404e-01, 4.70124147e-01,\n",
              "        8.87887715e-01],\n",
              "       [2.31050557e-01, 4.65158091e-01, 8.72056772e-01, 4.11925092e-01,\n",
              "        8.90128125e-02],\n",
              "       [2.83134381e-01, 9.21793445e-01, 8.02513635e-01, 6.56021869e-01,\n",
              "        1.46697987e-01],\n",
              "       [9.79124693e-01, 7.65822607e-01, 9.97173578e-01, 2.11515107e-01,\n",
              "        3.51991246e-01],\n",
              "       [5.41681235e-01, 4.70249827e-01, 3.06915787e-01, 8.60244742e-01,\n",
              "        1.56348888e-01],\n",
              "       [1.18959797e-01, 6.56999472e-01, 7.94941667e-01, 8.92879370e-01,\n",
              "        6.41089241e-01],\n",
              "       [7.63330717e-01, 6.33007625e-01, 5.73541140e-01, 6.43961371e-01,\n",
              "        2.35107463e-01],\n",
              "       [4.59721454e-01, 7.94547865e-02, 3.05493590e-01, 1.08843606e-01,\n",
              "        7.47210907e-01],\n",
              "       [5.87715124e-02, 6.28923267e-01, 9.88595105e-01, 1.23332742e-01,\n",
              "        8.78576881e-04],\n",
              "       [7.51196746e-01, 7.53771215e-01, 3.61239239e-01, 6.95863938e-01,\n",
              "        2.37189412e-01],\n",
              "       [9.66916752e-02, 2.80175420e-01, 3.98059229e-01, 1.95155343e-01,\n",
              "        7.85932640e-01],\n",
              "       [5.95725439e-01, 6.78900035e-01, 2.69801583e-01, 1.38810609e-01,\n",
              "        7.82476322e-02],\n",
              "       [3.09324791e-01, 8.20749140e-01, 9.52233417e-01, 8.96358935e-01,\n",
              "        9.75491355e-01],\n",
              "       [2.96996067e-01, 7.96892632e-01, 5.31538317e-01, 1.36841408e-01,\n",
              "        9.19961005e-01],\n",
              "       [3.63349772e-01, 9.31885836e-01, 6.16613359e-01, 7.80357136e-01,\n",
              "        8.19708463e-01],\n",
              "       [2.26028035e-01, 8.33388923e-01, 6.19216290e-01, 6.44513111e-01,\n",
              "        1.08422700e-01],\n",
              "       [4.65010747e-01, 4.15479897e-01, 5.46836960e-02, 7.30950052e-01,\n",
              "        4.38395934e-01],\n",
              "       [5.28776066e-01, 3.29863212e-01, 5.95472925e-01, 8.30711328e-01,\n",
              "        2.14147762e-01],\n",
              "       [6.65089755e-01, 6.45166602e-01, 6.27061941e-01, 3.24435809e-01,\n",
              "        9.77456293e-01],\n",
              "       [1.55948449e-01, 3.13234311e-01, 6.81962944e-01, 4.33709211e-01,\n",
              "        8.55357059e-01],\n",
              "       [9.94785356e-01, 9.82810948e-01, 5.58028309e-01, 1.77986974e-01,\n",
              "        8.33121414e-01],\n",
              "       [2.23211652e-01, 8.03738533e-01, 6.23425606e-01, 9.00943989e-01,\n",
              "        1.76340323e-01],\n",
              "       [1.57594723e-01, 3.02941679e-01, 4.57444825e-01, 1.58313328e-01,\n",
              "        6.13445975e-01],\n",
              "       [6.61751341e-01, 7.80072601e-01, 1.37030611e-01, 6.87534594e-01,\n",
              "        3.60104336e-01],\n",
              "       [1.57183650e-01, 6.68568785e-01, 8.92587611e-01, 2.93494643e-01,\n",
              "        6.66171147e-01],\n",
              "       [4.15762024e-01, 1.71178198e-01, 9.57281702e-02, 2.41916164e-01,\n",
              "        5.44746690e-01],\n",
              "       [6.08961474e-01, 6.09580879e-02, 6.72340649e-01, 2.01637572e-01,\n",
              "        2.01074221e-01],\n",
              "       [2.34118036e-01, 2.20606085e-01, 9.28179507e-01, 2.76715606e-01,\n",
              "        1.59392506e-01],\n",
              "       [5.76336725e-01, 6.13213975e-01, 3.35368083e-01, 9.32974639e-02,\n",
              "        9.47700286e-01],\n",
              "       [7.73325768e-01, 4.90007591e-01, 8.81332901e-01, 8.43232751e-01,\n",
              "        3.11335060e-01],\n",
              "       [3.43836095e-01, 2.52210278e-01, 5.51320151e-01, 5.24125644e-02,\n",
              "        9.14607106e-02],\n",
              "       [9.23285001e-01, 6.32014886e-02, 2.39431507e-01, 6.41240566e-01,\n",
              "        3.14174558e-01],\n",
              "       [7.10358255e-01, 6.70614967e-01, 5.49917105e-01, 4.00261188e-01,\n",
              "        5.71866507e-01],\n",
              "       [5.54568231e-02, 8.84191141e-01, 8.19872521e-01, 3.20454620e-01,\n",
              "        6.20954197e-01],\n",
              "       [7.01671485e-01, 5.30638007e-01, 8.84266253e-01, 8.22440671e-01,\n",
              "        4.28814927e-04],\n",
              "       [9.04185189e-01, 2.44765693e-01, 3.44367793e-01, 7.96981677e-01,\n",
              "        5.30033246e-01],\n",
              "       [1.39129192e-01, 4.16506146e-01, 3.35521285e-01, 2.12188136e-01,\n",
              "        1.00024657e-01],\n",
              "       [1.82424834e-01, 2.16637946e-01, 9.70320174e-02, 7.90677242e-01,\n",
              "        6.07229646e-01],\n",
              "       [2.33295820e-01, 5.32787639e-01, 1.86382834e-01, 9.95601627e-01,\n",
              "        4.20449392e-01],\n",
              "       [3.63466868e-02, 4.46313954e-01, 7.17419989e-01, 2.25305037e-01,\n",
              "        9.14902641e-01],\n",
              "       [3.88438564e-01, 4.74630930e-01, 8.04385869e-01, 2.25260196e-01,\n",
              "        6.84956323e-01],\n",
              "       [2.52105558e-01, 1.62504719e-01, 1.03049206e-01, 7.89458741e-01,\n",
              "        7.88658025e-01],\n",
              "       [9.94280536e-01, 7.53916628e-01, 7.74545897e-01, 7.15923098e-01,\n",
              "        2.15395035e-01],\n",
              "       [9.93528665e-01, 5.04934809e-01, 1.01049228e-01, 8.95161862e-01,\n",
              "        2.23211479e-01],\n",
              "       [3.46926215e-01, 3.77064462e-01, 9.85096864e-01, 9.43685087e-02,\n",
              "        3.28907255e-01],\n",
              "       [1.48095817e-01, 1.77876626e-01, 3.24897306e-01, 8.56711506e-01,\n",
              "        7.32098839e-01],\n",
              "       [4.73175015e-01, 7.35308271e-01, 7.62701615e-02, 5.64161499e-01,\n",
              "        4.04403365e-01],\n",
              "       [3.45904016e-01, 8.29024794e-01, 5.19170025e-01, 3.49863475e-02,\n",
              "        1.67266194e-01],\n",
              "       [7.53778367e-01, 6.78677124e-01, 3.05640371e-01, 4.98123949e-02,\n",
              "        7.90259177e-01],\n",
              "       [6.10373187e-01, 1.34231153e-01, 2.71029463e-01, 3.92482470e-01,\n",
              "        4.38068055e-01]])"
            ]
          },
          "execution_count": 93,
          "metadata": {},
          "output_type": "execute_result"
        }
      ],
      "source": [
        "d1 = dataf.to_numpy()\n",
        "d1"
      ]
    },
    {
      "cell_type": "code",
      "execution_count": 94,
      "metadata": {
        "trusted": true
      },
      "outputs": [
        {
          "data": {
            "text/plain": [
              "array([[7.11758317e-01, 2.31050557e-01, 2.83134381e-01, 9.79124693e-01,\n",
              "        5.41681235e-01, 1.18959797e-01, 7.63330717e-01, 4.59721454e-01,\n",
              "        5.87715124e-02, 7.51196746e-01, 9.66916752e-02, 5.95725439e-01,\n",
              "        3.09324791e-01, 2.96996067e-01, 3.63349772e-01, 2.26028035e-01,\n",
              "        4.65010747e-01, 5.28776066e-01, 6.65089755e-01, 1.55948449e-01,\n",
              "        9.94785356e-01, 2.23211652e-01, 1.57594723e-01, 6.61751341e-01,\n",
              "        1.57183650e-01, 4.15762024e-01, 6.08961474e-01, 2.34118036e-01,\n",
              "        5.76336725e-01, 7.73325768e-01, 3.43836095e-01, 9.23285001e-01,\n",
              "        7.10358255e-01, 5.54568231e-02, 7.01671485e-01, 9.04185189e-01,\n",
              "        1.39129192e-01, 1.82424834e-01, 2.33295820e-01, 3.63466868e-02,\n",
              "        3.88438564e-01, 2.52105558e-01, 9.94280536e-01, 9.93528665e-01,\n",
              "        3.46926215e-01, 1.48095817e-01, 4.73175015e-01, 3.45904016e-01,\n",
              "        7.53778367e-01, 6.10373187e-01],\n",
              "       [7.02396853e-01, 4.65158091e-01, 9.21793445e-01, 7.65822607e-01,\n",
              "        4.70249827e-01, 6.56999472e-01, 6.33007625e-01, 7.94547865e-02,\n",
              "        6.28923267e-01, 7.53771215e-01, 2.80175420e-01, 6.78900035e-01,\n",
              "        8.20749140e-01, 7.96892632e-01, 9.31885836e-01, 8.33388923e-01,\n",
              "        4.15479897e-01, 3.29863212e-01, 6.45166602e-01, 3.13234311e-01,\n",
              "        9.82810948e-01, 8.03738533e-01, 3.02941679e-01, 7.80072601e-01,\n",
              "        6.68568785e-01, 1.71178198e-01, 6.09580879e-02, 2.20606085e-01,\n",
              "        6.13213975e-01, 4.90007591e-01, 2.52210278e-01, 6.32014886e-02,\n",
              "        6.70614967e-01, 8.84191141e-01, 5.30638007e-01, 2.44765693e-01,\n",
              "        4.16506146e-01, 2.16637946e-01, 5.32787639e-01, 4.46313954e-01,\n",
              "        4.74630930e-01, 1.62504719e-01, 7.53916628e-01, 5.04934809e-01,\n",
              "        3.77064462e-01, 1.77876626e-01, 7.35308271e-01, 8.29024794e-01,\n",
              "        6.78677124e-01, 1.34231153e-01],\n",
              "       [4.40956404e-01, 8.72056772e-01, 8.02513635e-01, 9.97173578e-01,\n",
              "        3.06915787e-01, 7.94941667e-01, 5.73541140e-01, 3.05493590e-01,\n",
              "        9.88595105e-01, 3.61239239e-01, 3.98059229e-01, 2.69801583e-01,\n",
              "        9.52233417e-01, 5.31538317e-01, 6.16613359e-01, 6.19216290e-01,\n",
              "        5.46836960e-02, 5.95472925e-01, 6.27061941e-01, 6.81962944e-01,\n",
              "        5.58028309e-01, 6.23425606e-01, 4.57444825e-01, 1.37030611e-01,\n",
              "        8.92587611e-01, 9.57281702e-02, 6.72340649e-01, 9.28179507e-01,\n",
              "        3.35368083e-01, 8.81332901e-01, 5.51320151e-01, 2.39431507e-01,\n",
              "        5.49917105e-01, 8.19872521e-01, 8.84266253e-01, 3.44367793e-01,\n",
              "        3.35521285e-01, 9.70320174e-02, 1.86382834e-01, 7.17419989e-01,\n",
              "        8.04385869e-01, 1.03049206e-01, 7.74545897e-01, 1.01049228e-01,\n",
              "        9.85096864e-01, 3.24897306e-01, 7.62701615e-02, 5.19170025e-01,\n",
              "        3.05640371e-01, 2.71029463e-01],\n",
              "       [4.70124147e-01, 4.11925092e-01, 6.56021869e-01, 2.11515107e-01,\n",
              "        8.60244742e-01, 8.92879370e-01, 6.43961371e-01, 1.08843606e-01,\n",
              "        1.23332742e-01, 6.95863938e-01, 1.95155343e-01, 1.38810609e-01,\n",
              "        8.96358935e-01, 1.36841408e-01, 7.80357136e-01, 6.44513111e-01,\n",
              "        7.30950052e-01, 8.30711328e-01, 3.24435809e-01, 4.33709211e-01,\n",
              "        1.77986974e-01, 9.00943989e-01, 1.58313328e-01, 6.87534594e-01,\n",
              "        2.93494643e-01, 2.41916164e-01, 2.01637572e-01, 2.76715606e-01,\n",
              "        9.32974639e-02, 8.43232751e-01, 5.24125644e-02, 6.41240566e-01,\n",
              "        4.00261188e-01, 3.20454620e-01, 8.22440671e-01, 7.96981677e-01,\n",
              "        2.12188136e-01, 7.90677242e-01, 9.95601627e-01, 2.25305037e-01,\n",
              "        2.25260196e-01, 7.89458741e-01, 7.15923098e-01, 8.95161862e-01,\n",
              "        9.43685087e-02, 8.56711506e-01, 5.64161499e-01, 3.49863475e-02,\n",
              "        4.98123949e-02, 3.92482470e-01],\n",
              "       [8.87887715e-01, 8.90128125e-02, 1.46697987e-01, 3.51991246e-01,\n",
              "        1.56348888e-01, 6.41089241e-01, 2.35107463e-01, 7.47210907e-01,\n",
              "        8.78576881e-04, 2.37189412e-01, 7.85932640e-01, 7.82476322e-02,\n",
              "        9.75491355e-01, 9.19961005e-01, 8.19708463e-01, 1.08422700e-01,\n",
              "        4.38395934e-01, 2.14147762e-01, 9.77456293e-01, 8.55357059e-01,\n",
              "        8.33121414e-01, 1.76340323e-01, 6.13445975e-01, 3.60104336e-01,\n",
              "        6.66171147e-01, 5.44746690e-01, 2.01074221e-01, 1.59392506e-01,\n",
              "        9.47700286e-01, 3.11335060e-01, 9.14607106e-02, 3.14174558e-01,\n",
              "        5.71866507e-01, 6.20954197e-01, 4.28814927e-04, 5.30033246e-01,\n",
              "        1.00024657e-01, 6.07229646e-01, 4.20449392e-01, 9.14902641e-01,\n",
              "        6.84956323e-01, 7.88658025e-01, 2.15395035e-01, 2.23211479e-01,\n",
              "        3.28907255e-01, 7.32098839e-01, 4.04403365e-01, 1.67266194e-01,\n",
              "        7.90259177e-01, 4.38068055e-01]])"
            ]
          },
          "execution_count": 94,
          "metadata": {},
          "output_type": "execute_result"
        }
      ],
      "source": [
        "d1.T"
      ]
    },
    {
      "cell_type": "code",
      "execution_count": 95,
      "metadata": {
        "trusted": true
      },
      "outputs": [],
      "source": [
        "#Example 19\n",
        "#Change names of the columns."
      ]
    },
    {
      "cell_type": "code",
      "execution_count": 96,
      "metadata": {
        "trusted": true
      },
      "outputs": [
        {
          "data": {
            "text/html": [
              "<div>\n",
              "<style scoped>\n",
              "    .dataframe tbody tr th:only-of-type {\n",
              "        vertical-align: middle;\n",
              "    }\n",
              "\n",
              "    .dataframe tbody tr th {\n",
              "        vertical-align: top;\n",
              "    }\n",
              "\n",
              "    .dataframe thead th {\n",
              "        text-align: right;\n",
              "    }\n",
              "</style>\n",
              "<table border=\"1\" class=\"dataframe\">\n",
              "  <thead>\n",
              "    <tr style=\"text-align: right;\">\n",
              "      <th></th>\n",
              "      <th>A</th>\n",
              "      <th>B</th>\n",
              "      <th>C</th>\n",
              "      <th>D</th>\n",
              "      <th>E</th>\n",
              "    </tr>\n",
              "  </thead>\n",
              "  <tbody>\n",
              "    <tr>\n",
              "      <th>0</th>\n",
              "      <td>0.711758</td>\n",
              "      <td>0.702397</td>\n",
              "      <td>0.440956</td>\n",
              "      <td>0.470124</td>\n",
              "      <td>0.887888</td>\n",
              "    </tr>\n",
              "    <tr>\n",
              "      <th>1</th>\n",
              "      <td>0.231051</td>\n",
              "      <td>0.465158</td>\n",
              "      <td>0.872057</td>\n",
              "      <td>0.411925</td>\n",
              "      <td>0.089013</td>\n",
              "    </tr>\n",
              "    <tr>\n",
              "      <th>2</th>\n",
              "      <td>0.283134</td>\n",
              "      <td>0.921793</td>\n",
              "      <td>0.802514</td>\n",
              "      <td>0.656022</td>\n",
              "      <td>0.146698</td>\n",
              "    </tr>\n",
              "    <tr>\n",
              "      <th>3</th>\n",
              "      <td>0.979125</td>\n",
              "      <td>0.765823</td>\n",
              "      <td>0.997174</td>\n",
              "      <td>0.211515</td>\n",
              "      <td>0.351991</td>\n",
              "    </tr>\n",
              "    <tr>\n",
              "      <th>4</th>\n",
              "      <td>0.541681</td>\n",
              "      <td>0.470250</td>\n",
              "      <td>0.306916</td>\n",
              "      <td>0.860245</td>\n",
              "      <td>0.156349</td>\n",
              "    </tr>\n",
              "    <tr>\n",
              "      <th>5</th>\n",
              "      <td>0.118960</td>\n",
              "      <td>0.656999</td>\n",
              "      <td>0.794942</td>\n",
              "      <td>0.892879</td>\n",
              "      <td>0.641089</td>\n",
              "    </tr>\n",
              "    <tr>\n",
              "      <th>6</th>\n",
              "      <td>0.763331</td>\n",
              "      <td>0.633008</td>\n",
              "      <td>0.573541</td>\n",
              "      <td>0.643961</td>\n",
              "      <td>0.235107</td>\n",
              "    </tr>\n",
              "    <tr>\n",
              "      <th>7</th>\n",
              "      <td>0.459721</td>\n",
              "      <td>0.079455</td>\n",
              "      <td>0.305494</td>\n",
              "      <td>0.108844</td>\n",
              "      <td>0.747211</td>\n",
              "    </tr>\n",
              "    <tr>\n",
              "      <th>8</th>\n",
              "      <td>0.058772</td>\n",
              "      <td>0.628923</td>\n",
              "      <td>0.988595</td>\n",
              "      <td>0.123333</td>\n",
              "      <td>0.000879</td>\n",
              "    </tr>\n",
              "    <tr>\n",
              "      <th>9</th>\n",
              "      <td>0.751197</td>\n",
              "      <td>0.753771</td>\n",
              "      <td>0.361239</td>\n",
              "      <td>0.695864</td>\n",
              "      <td>0.237189</td>\n",
              "    </tr>\n",
              "    <tr>\n",
              "      <th>10</th>\n",
              "      <td>0.096692</td>\n",
              "      <td>0.280175</td>\n",
              "      <td>0.398059</td>\n",
              "      <td>0.195155</td>\n",
              "      <td>0.785933</td>\n",
              "    </tr>\n",
              "    <tr>\n",
              "      <th>11</th>\n",
              "      <td>0.595725</td>\n",
              "      <td>0.678900</td>\n",
              "      <td>0.269802</td>\n",
              "      <td>0.138811</td>\n",
              "      <td>0.078248</td>\n",
              "    </tr>\n",
              "    <tr>\n",
              "      <th>12</th>\n",
              "      <td>0.309325</td>\n",
              "      <td>0.820749</td>\n",
              "      <td>0.952233</td>\n",
              "      <td>0.896359</td>\n",
              "      <td>0.975491</td>\n",
              "    </tr>\n",
              "    <tr>\n",
              "      <th>13</th>\n",
              "      <td>0.296996</td>\n",
              "      <td>0.796893</td>\n",
              "      <td>0.531538</td>\n",
              "      <td>0.136841</td>\n",
              "      <td>0.919961</td>\n",
              "    </tr>\n",
              "    <tr>\n",
              "      <th>14</th>\n",
              "      <td>0.363350</td>\n",
              "      <td>0.931886</td>\n",
              "      <td>0.616613</td>\n",
              "      <td>0.780357</td>\n",
              "      <td>0.819708</td>\n",
              "    </tr>\n",
              "    <tr>\n",
              "      <th>15</th>\n",
              "      <td>0.226028</td>\n",
              "      <td>0.833389</td>\n",
              "      <td>0.619216</td>\n",
              "      <td>0.644513</td>\n",
              "      <td>0.108423</td>\n",
              "    </tr>\n",
              "    <tr>\n",
              "      <th>16</th>\n",
              "      <td>0.465011</td>\n",
              "      <td>0.415480</td>\n",
              "      <td>0.054684</td>\n",
              "      <td>0.730950</td>\n",
              "      <td>0.438396</td>\n",
              "    </tr>\n",
              "    <tr>\n",
              "      <th>17</th>\n",
              "      <td>0.528776</td>\n",
              "      <td>0.329863</td>\n",
              "      <td>0.595473</td>\n",
              "      <td>0.830711</td>\n",
              "      <td>0.214148</td>\n",
              "    </tr>\n",
              "    <tr>\n",
              "      <th>18</th>\n",
              "      <td>0.665090</td>\n",
              "      <td>0.645167</td>\n",
              "      <td>0.627062</td>\n",
              "      <td>0.324436</td>\n",
              "      <td>0.977456</td>\n",
              "    </tr>\n",
              "    <tr>\n",
              "      <th>19</th>\n",
              "      <td>0.155948</td>\n",
              "      <td>0.313234</td>\n",
              "      <td>0.681963</td>\n",
              "      <td>0.433709</td>\n",
              "      <td>0.855357</td>\n",
              "    </tr>\n",
              "    <tr>\n",
              "      <th>20</th>\n",
              "      <td>0.994785</td>\n",
              "      <td>0.982811</td>\n",
              "      <td>0.558028</td>\n",
              "      <td>0.177987</td>\n",
              "      <td>0.833121</td>\n",
              "    </tr>\n",
              "    <tr>\n",
              "      <th>21</th>\n",
              "      <td>0.223212</td>\n",
              "      <td>0.803739</td>\n",
              "      <td>0.623426</td>\n",
              "      <td>0.900944</td>\n",
              "      <td>0.176340</td>\n",
              "    </tr>\n",
              "    <tr>\n",
              "      <th>22</th>\n",
              "      <td>0.157595</td>\n",
              "      <td>0.302942</td>\n",
              "      <td>0.457445</td>\n",
              "      <td>0.158313</td>\n",
              "      <td>0.613446</td>\n",
              "    </tr>\n",
              "    <tr>\n",
              "      <th>23</th>\n",
              "      <td>0.661751</td>\n",
              "      <td>0.780073</td>\n",
              "      <td>0.137031</td>\n",
              "      <td>0.687535</td>\n",
              "      <td>0.360104</td>\n",
              "    </tr>\n",
              "    <tr>\n",
              "      <th>24</th>\n",
              "      <td>0.157184</td>\n",
              "      <td>0.668569</td>\n",
              "      <td>0.892588</td>\n",
              "      <td>0.293495</td>\n",
              "      <td>0.666171</td>\n",
              "    </tr>\n",
              "    <tr>\n",
              "      <th>25</th>\n",
              "      <td>0.415762</td>\n",
              "      <td>0.171178</td>\n",
              "      <td>0.095728</td>\n",
              "      <td>0.241916</td>\n",
              "      <td>0.544747</td>\n",
              "    </tr>\n",
              "    <tr>\n",
              "      <th>26</th>\n",
              "      <td>0.608961</td>\n",
              "      <td>0.060958</td>\n",
              "      <td>0.672341</td>\n",
              "      <td>0.201638</td>\n",
              "      <td>0.201074</td>\n",
              "    </tr>\n",
              "    <tr>\n",
              "      <th>27</th>\n",
              "      <td>0.234118</td>\n",
              "      <td>0.220606</td>\n",
              "      <td>0.928180</td>\n",
              "      <td>0.276716</td>\n",
              "      <td>0.159393</td>\n",
              "    </tr>\n",
              "    <tr>\n",
              "      <th>28</th>\n",
              "      <td>0.576337</td>\n",
              "      <td>0.613214</td>\n",
              "      <td>0.335368</td>\n",
              "      <td>0.093297</td>\n",
              "      <td>0.947700</td>\n",
              "    </tr>\n",
              "    <tr>\n",
              "      <th>29</th>\n",
              "      <td>0.773326</td>\n",
              "      <td>0.490008</td>\n",
              "      <td>0.881333</td>\n",
              "      <td>0.843233</td>\n",
              "      <td>0.311335</td>\n",
              "    </tr>\n",
              "    <tr>\n",
              "      <th>30</th>\n",
              "      <td>0.343836</td>\n",
              "      <td>0.252210</td>\n",
              "      <td>0.551320</td>\n",
              "      <td>0.052413</td>\n",
              "      <td>0.091461</td>\n",
              "    </tr>\n",
              "    <tr>\n",
              "      <th>31</th>\n",
              "      <td>0.923285</td>\n",
              "      <td>0.063201</td>\n",
              "      <td>0.239432</td>\n",
              "      <td>0.641241</td>\n",
              "      <td>0.314175</td>\n",
              "    </tr>\n",
              "    <tr>\n",
              "      <th>32</th>\n",
              "      <td>0.710358</td>\n",
              "      <td>0.670615</td>\n",
              "      <td>0.549917</td>\n",
              "      <td>0.400261</td>\n",
              "      <td>0.571867</td>\n",
              "    </tr>\n",
              "    <tr>\n",
              "      <th>33</th>\n",
              "      <td>0.055457</td>\n",
              "      <td>0.884191</td>\n",
              "      <td>0.819873</td>\n",
              "      <td>0.320455</td>\n",
              "      <td>0.620954</td>\n",
              "    </tr>\n",
              "    <tr>\n",
              "      <th>34</th>\n",
              "      <td>0.701671</td>\n",
              "      <td>0.530638</td>\n",
              "      <td>0.884266</td>\n",
              "      <td>0.822441</td>\n",
              "      <td>0.000429</td>\n",
              "    </tr>\n",
              "    <tr>\n",
              "      <th>35</th>\n",
              "      <td>0.904185</td>\n",
              "      <td>0.244766</td>\n",
              "      <td>0.344368</td>\n",
              "      <td>0.796982</td>\n",
              "      <td>0.530033</td>\n",
              "    </tr>\n",
              "    <tr>\n",
              "      <th>36</th>\n",
              "      <td>0.139129</td>\n",
              "      <td>0.416506</td>\n",
              "      <td>0.335521</td>\n",
              "      <td>0.212188</td>\n",
              "      <td>0.100025</td>\n",
              "    </tr>\n",
              "    <tr>\n",
              "      <th>37</th>\n",
              "      <td>0.182425</td>\n",
              "      <td>0.216638</td>\n",
              "      <td>0.097032</td>\n",
              "      <td>0.790677</td>\n",
              "      <td>0.607230</td>\n",
              "    </tr>\n",
              "    <tr>\n",
              "      <th>38</th>\n",
              "      <td>0.233296</td>\n",
              "      <td>0.532788</td>\n",
              "      <td>0.186383</td>\n",
              "      <td>0.995602</td>\n",
              "      <td>0.420449</td>\n",
              "    </tr>\n",
              "    <tr>\n",
              "      <th>39</th>\n",
              "      <td>0.036347</td>\n",
              "      <td>0.446314</td>\n",
              "      <td>0.717420</td>\n",
              "      <td>0.225305</td>\n",
              "      <td>0.914903</td>\n",
              "    </tr>\n",
              "    <tr>\n",
              "      <th>40</th>\n",
              "      <td>0.388439</td>\n",
              "      <td>0.474631</td>\n",
              "      <td>0.804386</td>\n",
              "      <td>0.225260</td>\n",
              "      <td>0.684956</td>\n",
              "    </tr>\n",
              "    <tr>\n",
              "      <th>41</th>\n",
              "      <td>0.252106</td>\n",
              "      <td>0.162505</td>\n",
              "      <td>0.103049</td>\n",
              "      <td>0.789459</td>\n",
              "      <td>0.788658</td>\n",
              "    </tr>\n",
              "    <tr>\n",
              "      <th>42</th>\n",
              "      <td>0.994281</td>\n",
              "      <td>0.753917</td>\n",
              "      <td>0.774546</td>\n",
              "      <td>0.715923</td>\n",
              "      <td>0.215395</td>\n",
              "    </tr>\n",
              "    <tr>\n",
              "      <th>43</th>\n",
              "      <td>0.993529</td>\n",
              "      <td>0.504935</td>\n",
              "      <td>0.101049</td>\n",
              "      <td>0.895162</td>\n",
              "      <td>0.223211</td>\n",
              "    </tr>\n",
              "    <tr>\n",
              "      <th>44</th>\n",
              "      <td>0.346926</td>\n",
              "      <td>0.377064</td>\n",
              "      <td>0.985097</td>\n",
              "      <td>0.094369</td>\n",
              "      <td>0.328907</td>\n",
              "    </tr>\n",
              "    <tr>\n",
              "      <th>45</th>\n",
              "      <td>0.148096</td>\n",
              "      <td>0.177877</td>\n",
              "      <td>0.324897</td>\n",
              "      <td>0.856712</td>\n",
              "      <td>0.732099</td>\n",
              "    </tr>\n",
              "    <tr>\n",
              "      <th>46</th>\n",
              "      <td>0.473175</td>\n",
              "      <td>0.735308</td>\n",
              "      <td>0.076270</td>\n",
              "      <td>0.564161</td>\n",
              "      <td>0.404403</td>\n",
              "    </tr>\n",
              "    <tr>\n",
              "      <th>47</th>\n",
              "      <td>0.345904</td>\n",
              "      <td>0.829025</td>\n",
              "      <td>0.519170</td>\n",
              "      <td>0.034986</td>\n",
              "      <td>0.167266</td>\n",
              "    </tr>\n",
              "    <tr>\n",
              "      <th>48</th>\n",
              "      <td>0.753778</td>\n",
              "      <td>0.678677</td>\n",
              "      <td>0.305640</td>\n",
              "      <td>0.049812</td>\n",
              "      <td>0.790259</td>\n",
              "    </tr>\n",
              "    <tr>\n",
              "      <th>49</th>\n",
              "      <td>0.610373</td>\n",
              "      <td>0.134231</td>\n",
              "      <td>0.271029</td>\n",
              "      <td>0.392482</td>\n",
              "      <td>0.438068</td>\n",
              "    </tr>\n",
              "  </tbody>\n",
              "</table>\n",
              "</div>"
            ],
            "text/plain": [
              "           A         B         C         D         E\n",
              "0   0.711758  0.702397  0.440956  0.470124  0.887888\n",
              "1   0.231051  0.465158  0.872057  0.411925  0.089013\n",
              "2   0.283134  0.921793  0.802514  0.656022  0.146698\n",
              "3   0.979125  0.765823  0.997174  0.211515  0.351991\n",
              "4   0.541681  0.470250  0.306916  0.860245  0.156349\n",
              "5   0.118960  0.656999  0.794942  0.892879  0.641089\n",
              "6   0.763331  0.633008  0.573541  0.643961  0.235107\n",
              "7   0.459721  0.079455  0.305494  0.108844  0.747211\n",
              "8   0.058772  0.628923  0.988595  0.123333  0.000879\n",
              "9   0.751197  0.753771  0.361239  0.695864  0.237189\n",
              "10  0.096692  0.280175  0.398059  0.195155  0.785933\n",
              "11  0.595725  0.678900  0.269802  0.138811  0.078248\n",
              "12  0.309325  0.820749  0.952233  0.896359  0.975491\n",
              "13  0.296996  0.796893  0.531538  0.136841  0.919961\n",
              "14  0.363350  0.931886  0.616613  0.780357  0.819708\n",
              "15  0.226028  0.833389  0.619216  0.644513  0.108423\n",
              "16  0.465011  0.415480  0.054684  0.730950  0.438396\n",
              "17  0.528776  0.329863  0.595473  0.830711  0.214148\n",
              "18  0.665090  0.645167  0.627062  0.324436  0.977456\n",
              "19  0.155948  0.313234  0.681963  0.433709  0.855357\n",
              "20  0.994785  0.982811  0.558028  0.177987  0.833121\n",
              "21  0.223212  0.803739  0.623426  0.900944  0.176340\n",
              "22  0.157595  0.302942  0.457445  0.158313  0.613446\n",
              "23  0.661751  0.780073  0.137031  0.687535  0.360104\n",
              "24  0.157184  0.668569  0.892588  0.293495  0.666171\n",
              "25  0.415762  0.171178  0.095728  0.241916  0.544747\n",
              "26  0.608961  0.060958  0.672341  0.201638  0.201074\n",
              "27  0.234118  0.220606  0.928180  0.276716  0.159393\n",
              "28  0.576337  0.613214  0.335368  0.093297  0.947700\n",
              "29  0.773326  0.490008  0.881333  0.843233  0.311335\n",
              "30  0.343836  0.252210  0.551320  0.052413  0.091461\n",
              "31  0.923285  0.063201  0.239432  0.641241  0.314175\n",
              "32  0.710358  0.670615  0.549917  0.400261  0.571867\n",
              "33  0.055457  0.884191  0.819873  0.320455  0.620954\n",
              "34  0.701671  0.530638  0.884266  0.822441  0.000429\n",
              "35  0.904185  0.244766  0.344368  0.796982  0.530033\n",
              "36  0.139129  0.416506  0.335521  0.212188  0.100025\n",
              "37  0.182425  0.216638  0.097032  0.790677  0.607230\n",
              "38  0.233296  0.532788  0.186383  0.995602  0.420449\n",
              "39  0.036347  0.446314  0.717420  0.225305  0.914903\n",
              "40  0.388439  0.474631  0.804386  0.225260  0.684956\n",
              "41  0.252106  0.162505  0.103049  0.789459  0.788658\n",
              "42  0.994281  0.753917  0.774546  0.715923  0.215395\n",
              "43  0.993529  0.504935  0.101049  0.895162  0.223211\n",
              "44  0.346926  0.377064  0.985097  0.094369  0.328907\n",
              "45  0.148096  0.177877  0.324897  0.856712  0.732099\n",
              "46  0.473175  0.735308  0.076270  0.564161  0.404403\n",
              "47  0.345904  0.829025  0.519170  0.034986  0.167266\n",
              "48  0.753778  0.678677  0.305640  0.049812  0.790259\n",
              "49  0.610373  0.134231  0.271029  0.392482  0.438068"
            ]
          },
          "execution_count": 96,
          "metadata": {},
          "output_type": "execute_result"
        }
      ],
      "source": [
        "dataf.columns = ['A', 'B', 'C', 'D', 'E']\n",
        "dataf"
      ]
    },
    {
      "cell_type": "code",
      "execution_count": 97,
      "metadata": {
        "trusted": true
      },
      "outputs": [
        {
          "data": {
            "text/html": [
              "<div>\n",
              "<style scoped>\n",
              "    .dataframe tbody tr th:only-of-type {\n",
              "        vertical-align: middle;\n",
              "    }\n",
              "\n",
              "    .dataframe tbody tr th {\n",
              "        vertical-align: top;\n",
              "    }\n",
              "\n",
              "    .dataframe thead th {\n",
              "        text-align: right;\n",
              "    }\n",
              "</style>\n",
              "<table border=\"1\" class=\"dataframe\">\n",
              "  <thead>\n",
              "    <tr style=\"text-align: right;\">\n",
              "      <th></th>\n",
              "      <th>B</th>\n",
              "      <th>C</th>\n",
              "    </tr>\n",
              "  </thead>\n",
              "  <tbody>\n",
              "    <tr>\n",
              "      <th>0</th>\n",
              "      <td>0.702397</td>\n",
              "      <td>0.440956</td>\n",
              "    </tr>\n",
              "    <tr>\n",
              "      <th>1</th>\n",
              "      <td>0.465158</td>\n",
              "      <td>0.872057</td>\n",
              "    </tr>\n",
              "    <tr>\n",
              "      <th>2</th>\n",
              "      <td>0.921793</td>\n",
              "      <td>0.802514</td>\n",
              "    </tr>\n",
              "    <tr>\n",
              "      <th>3</th>\n",
              "      <td>0.765823</td>\n",
              "      <td>0.997174</td>\n",
              "    </tr>\n",
              "    <tr>\n",
              "      <th>4</th>\n",
              "      <td>0.470250</td>\n",
              "      <td>0.306916</td>\n",
              "    </tr>\n",
              "    <tr>\n",
              "      <th>5</th>\n",
              "      <td>0.656999</td>\n",
              "      <td>0.794942</td>\n",
              "    </tr>\n",
              "    <tr>\n",
              "      <th>6</th>\n",
              "      <td>0.633008</td>\n",
              "      <td>0.573541</td>\n",
              "    </tr>\n",
              "    <tr>\n",
              "      <th>7</th>\n",
              "      <td>0.079455</td>\n",
              "      <td>0.305494</td>\n",
              "    </tr>\n",
              "    <tr>\n",
              "      <th>8</th>\n",
              "      <td>0.628923</td>\n",
              "      <td>0.988595</td>\n",
              "    </tr>\n",
              "    <tr>\n",
              "      <th>9</th>\n",
              "      <td>0.753771</td>\n",
              "      <td>0.361239</td>\n",
              "    </tr>\n",
              "    <tr>\n",
              "      <th>10</th>\n",
              "      <td>0.280175</td>\n",
              "      <td>0.398059</td>\n",
              "    </tr>\n",
              "    <tr>\n",
              "      <th>11</th>\n",
              "      <td>0.678900</td>\n",
              "      <td>0.269802</td>\n",
              "    </tr>\n",
              "    <tr>\n",
              "      <th>12</th>\n",
              "      <td>0.820749</td>\n",
              "      <td>0.952233</td>\n",
              "    </tr>\n",
              "    <tr>\n",
              "      <th>13</th>\n",
              "      <td>0.796893</td>\n",
              "      <td>0.531538</td>\n",
              "    </tr>\n",
              "    <tr>\n",
              "      <th>14</th>\n",
              "      <td>0.931886</td>\n",
              "      <td>0.616613</td>\n",
              "    </tr>\n",
              "    <tr>\n",
              "      <th>15</th>\n",
              "      <td>0.833389</td>\n",
              "      <td>0.619216</td>\n",
              "    </tr>\n",
              "    <tr>\n",
              "      <th>16</th>\n",
              "      <td>0.415480</td>\n",
              "      <td>0.054684</td>\n",
              "    </tr>\n",
              "    <tr>\n",
              "      <th>17</th>\n",
              "      <td>0.329863</td>\n",
              "      <td>0.595473</td>\n",
              "    </tr>\n",
              "    <tr>\n",
              "      <th>18</th>\n",
              "      <td>0.645167</td>\n",
              "      <td>0.627062</td>\n",
              "    </tr>\n",
              "    <tr>\n",
              "      <th>19</th>\n",
              "      <td>0.313234</td>\n",
              "      <td>0.681963</td>\n",
              "    </tr>\n",
              "    <tr>\n",
              "      <th>20</th>\n",
              "      <td>0.982811</td>\n",
              "      <td>0.558028</td>\n",
              "    </tr>\n",
              "    <tr>\n",
              "      <th>21</th>\n",
              "      <td>0.803739</td>\n",
              "      <td>0.623426</td>\n",
              "    </tr>\n",
              "    <tr>\n",
              "      <th>22</th>\n",
              "      <td>0.302942</td>\n",
              "      <td>0.457445</td>\n",
              "    </tr>\n",
              "    <tr>\n",
              "      <th>23</th>\n",
              "      <td>0.780073</td>\n",
              "      <td>0.137031</td>\n",
              "    </tr>\n",
              "    <tr>\n",
              "      <th>24</th>\n",
              "      <td>0.668569</td>\n",
              "      <td>0.892588</td>\n",
              "    </tr>\n",
              "    <tr>\n",
              "      <th>25</th>\n",
              "      <td>0.171178</td>\n",
              "      <td>0.095728</td>\n",
              "    </tr>\n",
              "    <tr>\n",
              "      <th>26</th>\n",
              "      <td>0.060958</td>\n",
              "      <td>0.672341</td>\n",
              "    </tr>\n",
              "    <tr>\n",
              "      <th>27</th>\n",
              "      <td>0.220606</td>\n",
              "      <td>0.928180</td>\n",
              "    </tr>\n",
              "    <tr>\n",
              "      <th>28</th>\n",
              "      <td>0.613214</td>\n",
              "      <td>0.335368</td>\n",
              "    </tr>\n",
              "    <tr>\n",
              "      <th>29</th>\n",
              "      <td>0.490008</td>\n",
              "      <td>0.881333</td>\n",
              "    </tr>\n",
              "    <tr>\n",
              "      <th>30</th>\n",
              "      <td>0.252210</td>\n",
              "      <td>0.551320</td>\n",
              "    </tr>\n",
              "    <tr>\n",
              "      <th>31</th>\n",
              "      <td>0.063201</td>\n",
              "      <td>0.239432</td>\n",
              "    </tr>\n",
              "    <tr>\n",
              "      <th>32</th>\n",
              "      <td>0.670615</td>\n",
              "      <td>0.549917</td>\n",
              "    </tr>\n",
              "    <tr>\n",
              "      <th>33</th>\n",
              "      <td>0.884191</td>\n",
              "      <td>0.819873</td>\n",
              "    </tr>\n",
              "    <tr>\n",
              "      <th>34</th>\n",
              "      <td>0.530638</td>\n",
              "      <td>0.884266</td>\n",
              "    </tr>\n",
              "    <tr>\n",
              "      <th>35</th>\n",
              "      <td>0.244766</td>\n",
              "      <td>0.344368</td>\n",
              "    </tr>\n",
              "    <tr>\n",
              "      <th>36</th>\n",
              "      <td>0.416506</td>\n",
              "      <td>0.335521</td>\n",
              "    </tr>\n",
              "    <tr>\n",
              "      <th>37</th>\n",
              "      <td>0.216638</td>\n",
              "      <td>0.097032</td>\n",
              "    </tr>\n",
              "    <tr>\n",
              "      <th>38</th>\n",
              "      <td>0.532788</td>\n",
              "      <td>0.186383</td>\n",
              "    </tr>\n",
              "    <tr>\n",
              "      <th>39</th>\n",
              "      <td>0.446314</td>\n",
              "      <td>0.717420</td>\n",
              "    </tr>\n",
              "    <tr>\n",
              "      <th>40</th>\n",
              "      <td>0.474631</td>\n",
              "      <td>0.804386</td>\n",
              "    </tr>\n",
              "    <tr>\n",
              "      <th>41</th>\n",
              "      <td>0.162505</td>\n",
              "      <td>0.103049</td>\n",
              "    </tr>\n",
              "    <tr>\n",
              "      <th>42</th>\n",
              "      <td>0.753917</td>\n",
              "      <td>0.774546</td>\n",
              "    </tr>\n",
              "    <tr>\n",
              "      <th>43</th>\n",
              "      <td>0.504935</td>\n",
              "      <td>0.101049</td>\n",
              "    </tr>\n",
              "    <tr>\n",
              "      <th>44</th>\n",
              "      <td>0.377064</td>\n",
              "      <td>0.985097</td>\n",
              "    </tr>\n",
              "    <tr>\n",
              "      <th>45</th>\n",
              "      <td>0.177877</td>\n",
              "      <td>0.324897</td>\n",
              "    </tr>\n",
              "    <tr>\n",
              "      <th>46</th>\n",
              "      <td>0.735308</td>\n",
              "      <td>0.076270</td>\n",
              "    </tr>\n",
              "    <tr>\n",
              "      <th>47</th>\n",
              "      <td>0.829025</td>\n",
              "      <td>0.519170</td>\n",
              "    </tr>\n",
              "    <tr>\n",
              "      <th>48</th>\n",
              "      <td>0.678677</td>\n",
              "      <td>0.305640</td>\n",
              "    </tr>\n",
              "    <tr>\n",
              "      <th>49</th>\n",
              "      <td>0.134231</td>\n",
              "      <td>0.271029</td>\n",
              "    </tr>\n",
              "  </tbody>\n",
              "</table>\n",
              "</div>"
            ],
            "text/plain": [
              "           B         C\n",
              "0   0.702397  0.440956\n",
              "1   0.465158  0.872057\n",
              "2   0.921793  0.802514\n",
              "3   0.765823  0.997174\n",
              "4   0.470250  0.306916\n",
              "5   0.656999  0.794942\n",
              "6   0.633008  0.573541\n",
              "7   0.079455  0.305494\n",
              "8   0.628923  0.988595\n",
              "9   0.753771  0.361239\n",
              "10  0.280175  0.398059\n",
              "11  0.678900  0.269802\n",
              "12  0.820749  0.952233\n",
              "13  0.796893  0.531538\n",
              "14  0.931886  0.616613\n",
              "15  0.833389  0.619216\n",
              "16  0.415480  0.054684\n",
              "17  0.329863  0.595473\n",
              "18  0.645167  0.627062\n",
              "19  0.313234  0.681963\n",
              "20  0.982811  0.558028\n",
              "21  0.803739  0.623426\n",
              "22  0.302942  0.457445\n",
              "23  0.780073  0.137031\n",
              "24  0.668569  0.892588\n",
              "25  0.171178  0.095728\n",
              "26  0.060958  0.672341\n",
              "27  0.220606  0.928180\n",
              "28  0.613214  0.335368\n",
              "29  0.490008  0.881333\n",
              "30  0.252210  0.551320\n",
              "31  0.063201  0.239432\n",
              "32  0.670615  0.549917\n",
              "33  0.884191  0.819873\n",
              "34  0.530638  0.884266\n",
              "35  0.244766  0.344368\n",
              "36  0.416506  0.335521\n",
              "37  0.216638  0.097032\n",
              "38  0.532788  0.186383\n",
              "39  0.446314  0.717420\n",
              "40  0.474631  0.804386\n",
              "41  0.162505  0.103049\n",
              "42  0.753917  0.774546\n",
              "43  0.504935  0.101049\n",
              "44  0.377064  0.985097\n",
              "45  0.177877  0.324897\n",
              "46  0.735308  0.076270\n",
              "47  0.829025  0.519170\n",
              "48  0.678677  0.305640\n",
              "49  0.134231  0.271029"
            ]
          },
          "execution_count": 97,
          "metadata": {},
          "output_type": "execute_result"
        }
      ],
      "source": [
        "#Example 20\n",
        "#Display column B and C from the dataset and also use head function\n",
        "dataf[['B', 'C']]"
      ]
    },
    {
      "cell_type": "code",
      "execution_count": 98,
      "metadata": {
        "trusted": true
      },
      "outputs": [
        {
          "data": {
            "text/html": [
              "<div>\n",
              "<style scoped>\n",
              "    .dataframe tbody tr th:only-of-type {\n",
              "        vertical-align: middle;\n",
              "    }\n",
              "\n",
              "    .dataframe tbody tr th {\n",
              "        vertical-align: top;\n",
              "    }\n",
              "\n",
              "    .dataframe thead th {\n",
              "        text-align: right;\n",
              "    }\n",
              "</style>\n",
              "<table border=\"1\" class=\"dataframe\">\n",
              "  <thead>\n",
              "    <tr style=\"text-align: right;\">\n",
              "      <th></th>\n",
              "      <th>A</th>\n",
              "      <th>B</th>\n",
              "    </tr>\n",
              "  </thead>\n",
              "  <tbody>\n",
              "    <tr>\n",
              "      <th>0</th>\n",
              "      <td>0.711758</td>\n",
              "      <td>0.702397</td>\n",
              "    </tr>\n",
              "    <tr>\n",
              "      <th>1</th>\n",
              "      <td>0.231051</td>\n",
              "      <td>0.465158</td>\n",
              "    </tr>\n",
              "    <tr>\n",
              "      <th>2</th>\n",
              "      <td>0.283134</td>\n",
              "      <td>0.921793</td>\n",
              "    </tr>\n",
              "    <tr>\n",
              "      <th>3</th>\n",
              "      <td>0.979125</td>\n",
              "      <td>0.765823</td>\n",
              "    </tr>\n",
              "    <tr>\n",
              "      <th>4</th>\n",
              "      <td>0.541681</td>\n",
              "      <td>0.470250</td>\n",
              "    </tr>\n",
              "    <tr>\n",
              "      <th>5</th>\n",
              "      <td>0.118960</td>\n",
              "      <td>0.656999</td>\n",
              "    </tr>\n",
              "    <tr>\n",
              "      <th>6</th>\n",
              "      <td>0.763331</td>\n",
              "      <td>0.633008</td>\n",
              "    </tr>\n",
              "    <tr>\n",
              "      <th>7</th>\n",
              "      <td>0.459721</td>\n",
              "      <td>0.079455</td>\n",
              "    </tr>\n",
              "    <tr>\n",
              "      <th>8</th>\n",
              "      <td>0.058772</td>\n",
              "      <td>0.628923</td>\n",
              "    </tr>\n",
              "    <tr>\n",
              "      <th>9</th>\n",
              "      <td>0.751197</td>\n",
              "      <td>0.753771</td>\n",
              "    </tr>\n",
              "    <tr>\n",
              "      <th>10</th>\n",
              "      <td>0.096692</td>\n",
              "      <td>0.280175</td>\n",
              "    </tr>\n",
              "    <tr>\n",
              "      <th>11</th>\n",
              "      <td>0.595725</td>\n",
              "      <td>0.678900</td>\n",
              "    </tr>\n",
              "    <tr>\n",
              "      <th>12</th>\n",
              "      <td>0.309325</td>\n",
              "      <td>0.820749</td>\n",
              "    </tr>\n",
              "    <tr>\n",
              "      <th>13</th>\n",
              "      <td>0.296996</td>\n",
              "      <td>0.796893</td>\n",
              "    </tr>\n",
              "    <tr>\n",
              "      <th>14</th>\n",
              "      <td>0.363350</td>\n",
              "      <td>0.931886</td>\n",
              "    </tr>\n",
              "    <tr>\n",
              "      <th>15</th>\n",
              "      <td>0.226028</td>\n",
              "      <td>0.833389</td>\n",
              "    </tr>\n",
              "    <tr>\n",
              "      <th>16</th>\n",
              "      <td>0.465011</td>\n",
              "      <td>0.415480</td>\n",
              "    </tr>\n",
              "    <tr>\n",
              "      <th>17</th>\n",
              "      <td>0.528776</td>\n",
              "      <td>0.329863</td>\n",
              "    </tr>\n",
              "    <tr>\n",
              "      <th>18</th>\n",
              "      <td>0.665090</td>\n",
              "      <td>0.645167</td>\n",
              "    </tr>\n",
              "    <tr>\n",
              "      <th>19</th>\n",
              "      <td>0.155948</td>\n",
              "      <td>0.313234</td>\n",
              "    </tr>\n",
              "    <tr>\n",
              "      <th>20</th>\n",
              "      <td>0.994785</td>\n",
              "      <td>0.982811</td>\n",
              "    </tr>\n",
              "    <tr>\n",
              "      <th>21</th>\n",
              "      <td>0.223212</td>\n",
              "      <td>0.803739</td>\n",
              "    </tr>\n",
              "    <tr>\n",
              "      <th>22</th>\n",
              "      <td>0.157595</td>\n",
              "      <td>0.302942</td>\n",
              "    </tr>\n",
              "    <tr>\n",
              "      <th>23</th>\n",
              "      <td>0.661751</td>\n",
              "      <td>0.780073</td>\n",
              "    </tr>\n",
              "    <tr>\n",
              "      <th>24</th>\n",
              "      <td>0.157184</td>\n",
              "      <td>0.668569</td>\n",
              "    </tr>\n",
              "    <tr>\n",
              "      <th>25</th>\n",
              "      <td>0.415762</td>\n",
              "      <td>0.171178</td>\n",
              "    </tr>\n",
              "    <tr>\n",
              "      <th>26</th>\n",
              "      <td>0.608961</td>\n",
              "      <td>0.060958</td>\n",
              "    </tr>\n",
              "    <tr>\n",
              "      <th>27</th>\n",
              "      <td>0.234118</td>\n",
              "      <td>0.220606</td>\n",
              "    </tr>\n",
              "    <tr>\n",
              "      <th>28</th>\n",
              "      <td>0.576337</td>\n",
              "      <td>0.613214</td>\n",
              "    </tr>\n",
              "    <tr>\n",
              "      <th>29</th>\n",
              "      <td>0.773326</td>\n",
              "      <td>0.490008</td>\n",
              "    </tr>\n",
              "    <tr>\n",
              "      <th>30</th>\n",
              "      <td>0.343836</td>\n",
              "      <td>0.252210</td>\n",
              "    </tr>\n",
              "    <tr>\n",
              "      <th>31</th>\n",
              "      <td>0.923285</td>\n",
              "      <td>0.063201</td>\n",
              "    </tr>\n",
              "    <tr>\n",
              "      <th>32</th>\n",
              "      <td>0.710358</td>\n",
              "      <td>0.670615</td>\n",
              "    </tr>\n",
              "    <tr>\n",
              "      <th>33</th>\n",
              "      <td>0.055457</td>\n",
              "      <td>0.884191</td>\n",
              "    </tr>\n",
              "    <tr>\n",
              "      <th>34</th>\n",
              "      <td>0.701671</td>\n",
              "      <td>0.530638</td>\n",
              "    </tr>\n",
              "    <tr>\n",
              "      <th>35</th>\n",
              "      <td>0.904185</td>\n",
              "      <td>0.244766</td>\n",
              "    </tr>\n",
              "    <tr>\n",
              "      <th>36</th>\n",
              "      <td>0.139129</td>\n",
              "      <td>0.416506</td>\n",
              "    </tr>\n",
              "    <tr>\n",
              "      <th>37</th>\n",
              "      <td>0.182425</td>\n",
              "      <td>0.216638</td>\n",
              "    </tr>\n",
              "    <tr>\n",
              "      <th>38</th>\n",
              "      <td>0.233296</td>\n",
              "      <td>0.532788</td>\n",
              "    </tr>\n",
              "    <tr>\n",
              "      <th>39</th>\n",
              "      <td>0.036347</td>\n",
              "      <td>0.446314</td>\n",
              "    </tr>\n",
              "    <tr>\n",
              "      <th>40</th>\n",
              "      <td>0.388439</td>\n",
              "      <td>0.474631</td>\n",
              "    </tr>\n",
              "    <tr>\n",
              "      <th>41</th>\n",
              "      <td>0.252106</td>\n",
              "      <td>0.162505</td>\n",
              "    </tr>\n",
              "    <tr>\n",
              "      <th>42</th>\n",
              "      <td>0.994281</td>\n",
              "      <td>0.753917</td>\n",
              "    </tr>\n",
              "    <tr>\n",
              "      <th>43</th>\n",
              "      <td>0.993529</td>\n",
              "      <td>0.504935</td>\n",
              "    </tr>\n",
              "    <tr>\n",
              "      <th>44</th>\n",
              "      <td>0.346926</td>\n",
              "      <td>0.377064</td>\n",
              "    </tr>\n",
              "    <tr>\n",
              "      <th>45</th>\n",
              "      <td>0.148096</td>\n",
              "      <td>0.177877</td>\n",
              "    </tr>\n",
              "    <tr>\n",
              "      <th>46</th>\n",
              "      <td>0.473175</td>\n",
              "      <td>0.735308</td>\n",
              "    </tr>\n",
              "    <tr>\n",
              "      <th>47</th>\n",
              "      <td>0.345904</td>\n",
              "      <td>0.829025</td>\n",
              "    </tr>\n",
              "    <tr>\n",
              "      <th>48</th>\n",
              "      <td>0.753778</td>\n",
              "      <td>0.678677</td>\n",
              "    </tr>\n",
              "    <tr>\n",
              "      <th>49</th>\n",
              "      <td>0.610373</td>\n",
              "      <td>0.134231</td>\n",
              "    </tr>\n",
              "  </tbody>\n",
              "</table>\n",
              "</div>"
            ],
            "text/plain": [
              "           A         B\n",
              "0   0.711758  0.702397\n",
              "1   0.231051  0.465158\n",
              "2   0.283134  0.921793\n",
              "3   0.979125  0.765823\n",
              "4   0.541681  0.470250\n",
              "5   0.118960  0.656999\n",
              "6   0.763331  0.633008\n",
              "7   0.459721  0.079455\n",
              "8   0.058772  0.628923\n",
              "9   0.751197  0.753771\n",
              "10  0.096692  0.280175\n",
              "11  0.595725  0.678900\n",
              "12  0.309325  0.820749\n",
              "13  0.296996  0.796893\n",
              "14  0.363350  0.931886\n",
              "15  0.226028  0.833389\n",
              "16  0.465011  0.415480\n",
              "17  0.528776  0.329863\n",
              "18  0.665090  0.645167\n",
              "19  0.155948  0.313234\n",
              "20  0.994785  0.982811\n",
              "21  0.223212  0.803739\n",
              "22  0.157595  0.302942\n",
              "23  0.661751  0.780073\n",
              "24  0.157184  0.668569\n",
              "25  0.415762  0.171178\n",
              "26  0.608961  0.060958\n",
              "27  0.234118  0.220606\n",
              "28  0.576337  0.613214\n",
              "29  0.773326  0.490008\n",
              "30  0.343836  0.252210\n",
              "31  0.923285  0.063201\n",
              "32  0.710358  0.670615\n",
              "33  0.055457  0.884191\n",
              "34  0.701671  0.530638\n",
              "35  0.904185  0.244766\n",
              "36  0.139129  0.416506\n",
              "37  0.182425  0.216638\n",
              "38  0.233296  0.532788\n",
              "39  0.036347  0.446314\n",
              "40  0.388439  0.474631\n",
              "41  0.252106  0.162505\n",
              "42  0.994281  0.753917\n",
              "43  0.993529  0.504935\n",
              "44  0.346926  0.377064\n",
              "45  0.148096  0.177877\n",
              "46  0.473175  0.735308\n",
              "47  0.345904  0.829025\n",
              "48  0.753778  0.678677\n",
              "49  0.610373  0.134231"
            ]
          },
          "execution_count": 98,
          "metadata": {},
          "output_type": "execute_result"
        }
      ],
      "source": [
        "#Example 21\n",
        "#Demonstrate the use of iloc function\n",
        "dataf.iloc[:, 0:2]   # : means all rows and 0:2 means cloumns till 2 "
      ]
    },
    {
      "cell_type": "code",
      "execution_count": 99,
      "metadata": {
        "trusted": true
      },
      "outputs": [
        {
          "data": {
            "text/html": [
              "<div>\n",
              "<style scoped>\n",
              "    .dataframe tbody tr th:only-of-type {\n",
              "        vertical-align: middle;\n",
              "    }\n",
              "\n",
              "    .dataframe tbody tr th {\n",
              "        vertical-align: top;\n",
              "    }\n",
              "\n",
              "    .dataframe thead th {\n",
              "        text-align: right;\n",
              "    }\n",
              "</style>\n",
              "<table border=\"1\" class=\"dataframe\">\n",
              "  <thead>\n",
              "    <tr style=\"text-align: right;\">\n",
              "      <th></th>\n",
              "      <th>A</th>\n",
              "      <th>B</th>\n",
              "      <th>C</th>\n",
              "    </tr>\n",
              "  </thead>\n",
              "  <tbody>\n",
              "    <tr>\n",
              "      <th>0</th>\n",
              "      <td>0.711758</td>\n",
              "      <td>0.702397</td>\n",
              "      <td>0.440956</td>\n",
              "    </tr>\n",
              "    <tr>\n",
              "      <th>1</th>\n",
              "      <td>0.231051</td>\n",
              "      <td>0.465158</td>\n",
              "      <td>0.872057</td>\n",
              "    </tr>\n",
              "    <tr>\n",
              "      <th>2</th>\n",
              "      <td>0.283134</td>\n",
              "      <td>0.921793</td>\n",
              "      <td>0.802514</td>\n",
              "    </tr>\n",
              "    <tr>\n",
              "      <th>3</th>\n",
              "      <td>0.979125</td>\n",
              "      <td>0.765823</td>\n",
              "      <td>0.997174</td>\n",
              "    </tr>\n",
              "    <tr>\n",
              "      <th>4</th>\n",
              "      <td>0.541681</td>\n",
              "      <td>0.470250</td>\n",
              "      <td>0.306916</td>\n",
              "    </tr>\n",
              "    <tr>\n",
              "      <th>5</th>\n",
              "      <td>0.118960</td>\n",
              "      <td>0.656999</td>\n",
              "      <td>0.794942</td>\n",
              "    </tr>\n",
              "    <tr>\n",
              "      <th>6</th>\n",
              "      <td>0.763331</td>\n",
              "      <td>0.633008</td>\n",
              "      <td>0.573541</td>\n",
              "    </tr>\n",
              "    <tr>\n",
              "      <th>7</th>\n",
              "      <td>0.459721</td>\n",
              "      <td>0.079455</td>\n",
              "      <td>0.305494</td>\n",
              "    </tr>\n",
              "    <tr>\n",
              "      <th>8</th>\n",
              "      <td>0.058772</td>\n",
              "      <td>0.628923</td>\n",
              "      <td>0.988595</td>\n",
              "    </tr>\n",
              "    <tr>\n",
              "      <th>9</th>\n",
              "      <td>0.751197</td>\n",
              "      <td>0.753771</td>\n",
              "      <td>0.361239</td>\n",
              "    </tr>\n",
              "    <tr>\n",
              "      <th>10</th>\n",
              "      <td>0.096692</td>\n",
              "      <td>0.280175</td>\n",
              "      <td>0.398059</td>\n",
              "    </tr>\n",
              "    <tr>\n",
              "      <th>11</th>\n",
              "      <td>0.595725</td>\n",
              "      <td>0.678900</td>\n",
              "      <td>0.269802</td>\n",
              "    </tr>\n",
              "    <tr>\n",
              "      <th>12</th>\n",
              "      <td>0.309325</td>\n",
              "      <td>0.820749</td>\n",
              "      <td>0.952233</td>\n",
              "    </tr>\n",
              "    <tr>\n",
              "      <th>13</th>\n",
              "      <td>0.296996</td>\n",
              "      <td>0.796893</td>\n",
              "      <td>0.531538</td>\n",
              "    </tr>\n",
              "    <tr>\n",
              "      <th>14</th>\n",
              "      <td>0.363350</td>\n",
              "      <td>0.931886</td>\n",
              "      <td>0.616613</td>\n",
              "    </tr>\n",
              "    <tr>\n",
              "      <th>15</th>\n",
              "      <td>0.226028</td>\n",
              "      <td>0.833389</td>\n",
              "      <td>0.619216</td>\n",
              "    </tr>\n",
              "    <tr>\n",
              "      <th>16</th>\n",
              "      <td>0.465011</td>\n",
              "      <td>0.415480</td>\n",
              "      <td>0.054684</td>\n",
              "    </tr>\n",
              "    <tr>\n",
              "      <th>17</th>\n",
              "      <td>0.528776</td>\n",
              "      <td>0.329863</td>\n",
              "      <td>0.595473</td>\n",
              "    </tr>\n",
              "    <tr>\n",
              "      <th>18</th>\n",
              "      <td>0.665090</td>\n",
              "      <td>0.645167</td>\n",
              "      <td>0.627062</td>\n",
              "    </tr>\n",
              "    <tr>\n",
              "      <th>19</th>\n",
              "      <td>0.155948</td>\n",
              "      <td>0.313234</td>\n",
              "      <td>0.681963</td>\n",
              "    </tr>\n",
              "    <tr>\n",
              "      <th>20</th>\n",
              "      <td>0.994785</td>\n",
              "      <td>0.982811</td>\n",
              "      <td>0.558028</td>\n",
              "    </tr>\n",
              "    <tr>\n",
              "      <th>21</th>\n",
              "      <td>0.223212</td>\n",
              "      <td>0.803739</td>\n",
              "      <td>0.623426</td>\n",
              "    </tr>\n",
              "    <tr>\n",
              "      <th>22</th>\n",
              "      <td>0.157595</td>\n",
              "      <td>0.302942</td>\n",
              "      <td>0.457445</td>\n",
              "    </tr>\n",
              "    <tr>\n",
              "      <th>23</th>\n",
              "      <td>0.661751</td>\n",
              "      <td>0.780073</td>\n",
              "      <td>0.137031</td>\n",
              "    </tr>\n",
              "    <tr>\n",
              "      <th>24</th>\n",
              "      <td>0.157184</td>\n",
              "      <td>0.668569</td>\n",
              "      <td>0.892588</td>\n",
              "    </tr>\n",
              "    <tr>\n",
              "      <th>25</th>\n",
              "      <td>0.415762</td>\n",
              "      <td>0.171178</td>\n",
              "      <td>0.095728</td>\n",
              "    </tr>\n",
              "    <tr>\n",
              "      <th>26</th>\n",
              "      <td>0.608961</td>\n",
              "      <td>0.060958</td>\n",
              "      <td>0.672341</td>\n",
              "    </tr>\n",
              "    <tr>\n",
              "      <th>27</th>\n",
              "      <td>0.234118</td>\n",
              "      <td>0.220606</td>\n",
              "      <td>0.928180</td>\n",
              "    </tr>\n",
              "    <tr>\n",
              "      <th>28</th>\n",
              "      <td>0.576337</td>\n",
              "      <td>0.613214</td>\n",
              "      <td>0.335368</td>\n",
              "    </tr>\n",
              "    <tr>\n",
              "      <th>29</th>\n",
              "      <td>0.773326</td>\n",
              "      <td>0.490008</td>\n",
              "      <td>0.881333</td>\n",
              "    </tr>\n",
              "    <tr>\n",
              "      <th>30</th>\n",
              "      <td>0.343836</td>\n",
              "      <td>0.252210</td>\n",
              "      <td>0.551320</td>\n",
              "    </tr>\n",
              "    <tr>\n",
              "      <th>31</th>\n",
              "      <td>0.923285</td>\n",
              "      <td>0.063201</td>\n",
              "      <td>0.239432</td>\n",
              "    </tr>\n",
              "    <tr>\n",
              "      <th>32</th>\n",
              "      <td>0.710358</td>\n",
              "      <td>0.670615</td>\n",
              "      <td>0.549917</td>\n",
              "    </tr>\n",
              "    <tr>\n",
              "      <th>33</th>\n",
              "      <td>0.055457</td>\n",
              "      <td>0.884191</td>\n",
              "      <td>0.819873</td>\n",
              "    </tr>\n",
              "    <tr>\n",
              "      <th>34</th>\n",
              "      <td>0.701671</td>\n",
              "      <td>0.530638</td>\n",
              "      <td>0.884266</td>\n",
              "    </tr>\n",
              "    <tr>\n",
              "      <th>35</th>\n",
              "      <td>0.904185</td>\n",
              "      <td>0.244766</td>\n",
              "      <td>0.344368</td>\n",
              "    </tr>\n",
              "    <tr>\n",
              "      <th>36</th>\n",
              "      <td>0.139129</td>\n",
              "      <td>0.416506</td>\n",
              "      <td>0.335521</td>\n",
              "    </tr>\n",
              "    <tr>\n",
              "      <th>37</th>\n",
              "      <td>0.182425</td>\n",
              "      <td>0.216638</td>\n",
              "      <td>0.097032</td>\n",
              "    </tr>\n",
              "    <tr>\n",
              "      <th>38</th>\n",
              "      <td>0.233296</td>\n",
              "      <td>0.532788</td>\n",
              "      <td>0.186383</td>\n",
              "    </tr>\n",
              "    <tr>\n",
              "      <th>39</th>\n",
              "      <td>0.036347</td>\n",
              "      <td>0.446314</td>\n",
              "      <td>0.717420</td>\n",
              "    </tr>\n",
              "    <tr>\n",
              "      <th>40</th>\n",
              "      <td>0.388439</td>\n",
              "      <td>0.474631</td>\n",
              "      <td>0.804386</td>\n",
              "    </tr>\n",
              "    <tr>\n",
              "      <th>41</th>\n",
              "      <td>0.252106</td>\n",
              "      <td>0.162505</td>\n",
              "      <td>0.103049</td>\n",
              "    </tr>\n",
              "    <tr>\n",
              "      <th>42</th>\n",
              "      <td>0.994281</td>\n",
              "      <td>0.753917</td>\n",
              "      <td>0.774546</td>\n",
              "    </tr>\n",
              "    <tr>\n",
              "      <th>43</th>\n",
              "      <td>0.993529</td>\n",
              "      <td>0.504935</td>\n",
              "      <td>0.101049</td>\n",
              "    </tr>\n",
              "    <tr>\n",
              "      <th>44</th>\n",
              "      <td>0.346926</td>\n",
              "      <td>0.377064</td>\n",
              "      <td>0.985097</td>\n",
              "    </tr>\n",
              "    <tr>\n",
              "      <th>45</th>\n",
              "      <td>0.148096</td>\n",
              "      <td>0.177877</td>\n",
              "      <td>0.324897</td>\n",
              "    </tr>\n",
              "    <tr>\n",
              "      <th>46</th>\n",
              "      <td>0.473175</td>\n",
              "      <td>0.735308</td>\n",
              "      <td>0.076270</td>\n",
              "    </tr>\n",
              "    <tr>\n",
              "      <th>47</th>\n",
              "      <td>0.345904</td>\n",
              "      <td>0.829025</td>\n",
              "      <td>0.519170</td>\n",
              "    </tr>\n",
              "    <tr>\n",
              "      <th>48</th>\n",
              "      <td>0.753778</td>\n",
              "      <td>0.678677</td>\n",
              "      <td>0.305640</td>\n",
              "    </tr>\n",
              "    <tr>\n",
              "      <th>49</th>\n",
              "      <td>0.610373</td>\n",
              "      <td>0.134231</td>\n",
              "      <td>0.271029</td>\n",
              "    </tr>\n",
              "  </tbody>\n",
              "</table>\n",
              "</div>"
            ],
            "text/plain": [
              "           A         B         C\n",
              "0   0.711758  0.702397  0.440956\n",
              "1   0.231051  0.465158  0.872057\n",
              "2   0.283134  0.921793  0.802514\n",
              "3   0.979125  0.765823  0.997174\n",
              "4   0.541681  0.470250  0.306916\n",
              "5   0.118960  0.656999  0.794942\n",
              "6   0.763331  0.633008  0.573541\n",
              "7   0.459721  0.079455  0.305494\n",
              "8   0.058772  0.628923  0.988595\n",
              "9   0.751197  0.753771  0.361239\n",
              "10  0.096692  0.280175  0.398059\n",
              "11  0.595725  0.678900  0.269802\n",
              "12  0.309325  0.820749  0.952233\n",
              "13  0.296996  0.796893  0.531538\n",
              "14  0.363350  0.931886  0.616613\n",
              "15  0.226028  0.833389  0.619216\n",
              "16  0.465011  0.415480  0.054684\n",
              "17  0.528776  0.329863  0.595473\n",
              "18  0.665090  0.645167  0.627062\n",
              "19  0.155948  0.313234  0.681963\n",
              "20  0.994785  0.982811  0.558028\n",
              "21  0.223212  0.803739  0.623426\n",
              "22  0.157595  0.302942  0.457445\n",
              "23  0.661751  0.780073  0.137031\n",
              "24  0.157184  0.668569  0.892588\n",
              "25  0.415762  0.171178  0.095728\n",
              "26  0.608961  0.060958  0.672341\n",
              "27  0.234118  0.220606  0.928180\n",
              "28  0.576337  0.613214  0.335368\n",
              "29  0.773326  0.490008  0.881333\n",
              "30  0.343836  0.252210  0.551320\n",
              "31  0.923285  0.063201  0.239432\n",
              "32  0.710358  0.670615  0.549917\n",
              "33  0.055457  0.884191  0.819873\n",
              "34  0.701671  0.530638  0.884266\n",
              "35  0.904185  0.244766  0.344368\n",
              "36  0.139129  0.416506  0.335521\n",
              "37  0.182425  0.216638  0.097032\n",
              "38  0.233296  0.532788  0.186383\n",
              "39  0.036347  0.446314  0.717420\n",
              "40  0.388439  0.474631  0.804386\n",
              "41  0.252106  0.162505  0.103049\n",
              "42  0.994281  0.753917  0.774546\n",
              "43  0.993529  0.504935  0.101049\n",
              "44  0.346926  0.377064  0.985097\n",
              "45  0.148096  0.177877  0.324897\n",
              "46  0.473175  0.735308  0.076270\n",
              "47  0.345904  0.829025  0.519170\n",
              "48  0.753778  0.678677  0.305640\n",
              "49  0.610373  0.134231  0.271029"
            ]
          },
          "execution_count": 99,
          "metadata": {},
          "output_type": "execute_result"
        }
      ],
      "source": [
        "#Example 22\n",
        "#Print column A to C and fimd the value on 0,0\n",
        "dataf.loc[:, 'A':'C'] # loc function use to specify the columns label or name"
      ]
    },
    {
      "cell_type": "code",
      "execution_count": 100,
      "metadata": {
        "trusted": true
      },
      "outputs": [
        {
          "data": {
            "text/html": [
              "<div>\n",
              "<style scoped>\n",
              "    .dataframe tbody tr th:only-of-type {\n",
              "        vertical-align: middle;\n",
              "    }\n",
              "\n",
              "    .dataframe tbody tr th {\n",
              "        vertical-align: top;\n",
              "    }\n",
              "\n",
              "    .dataframe thead th {\n",
              "        text-align: right;\n",
              "    }\n",
              "</style>\n",
              "<table border=\"1\" class=\"dataframe\">\n",
              "  <thead>\n",
              "    <tr style=\"text-align: right;\">\n",
              "      <th></th>\n",
              "      <th>C</th>\n",
              "      <th>D</th>\n",
              "    </tr>\n",
              "  </thead>\n",
              "  <tbody>\n",
              "    <tr>\n",
              "      <th>0</th>\n",
              "      <td>0.440956</td>\n",
              "      <td>0.470124</td>\n",
              "    </tr>\n",
              "    <tr>\n",
              "      <th>1</th>\n",
              "      <td>0.872057</td>\n",
              "      <td>0.411925</td>\n",
              "    </tr>\n",
              "    <tr>\n",
              "      <th>2</th>\n",
              "      <td>0.802514</td>\n",
              "      <td>0.656022</td>\n",
              "    </tr>\n",
              "    <tr>\n",
              "      <th>3</th>\n",
              "      <td>0.997174</td>\n",
              "      <td>0.211515</td>\n",
              "    </tr>\n",
              "    <tr>\n",
              "      <th>4</th>\n",
              "      <td>0.306916</td>\n",
              "      <td>0.860245</td>\n",
              "    </tr>\n",
              "    <tr>\n",
              "      <th>5</th>\n",
              "      <td>0.794942</td>\n",
              "      <td>0.892879</td>\n",
              "    </tr>\n",
              "    <tr>\n",
              "      <th>6</th>\n",
              "      <td>0.573541</td>\n",
              "      <td>0.643961</td>\n",
              "    </tr>\n",
              "    <tr>\n",
              "      <th>7</th>\n",
              "      <td>0.305494</td>\n",
              "      <td>0.108844</td>\n",
              "    </tr>\n",
              "    <tr>\n",
              "      <th>8</th>\n",
              "      <td>0.988595</td>\n",
              "      <td>0.123333</td>\n",
              "    </tr>\n",
              "    <tr>\n",
              "      <th>9</th>\n",
              "      <td>0.361239</td>\n",
              "      <td>0.695864</td>\n",
              "    </tr>\n",
              "    <tr>\n",
              "      <th>10</th>\n",
              "      <td>0.398059</td>\n",
              "      <td>0.195155</td>\n",
              "    </tr>\n",
              "    <tr>\n",
              "      <th>11</th>\n",
              "      <td>0.269802</td>\n",
              "      <td>0.138811</td>\n",
              "    </tr>\n",
              "  </tbody>\n",
              "</table>\n",
              "</div>"
            ],
            "text/plain": [
              "           C         D\n",
              "0   0.440956  0.470124\n",
              "1   0.872057  0.411925\n",
              "2   0.802514  0.656022\n",
              "3   0.997174  0.211515\n",
              "4   0.306916  0.860245\n",
              "5   0.794942  0.892879\n",
              "6   0.573541  0.643961\n",
              "7   0.305494  0.108844\n",
              "8   0.988595  0.123333\n",
              "9   0.361239  0.695864\n",
              "10  0.398059  0.195155\n",
              "11  0.269802  0.138811"
            ]
          },
          "execution_count": 100,
          "metadata": {},
          "output_type": "execute_result"
        }
      ],
      "source": [
        "#Example 23\n",
        "#Print 1st 12 elements of column 2 and 4\n",
        "dataf.iloc[0:12, 2:4]"
      ]
    },
    {
      "cell_type": "code",
      "execution_count": 101,
      "metadata": {
        "trusted": true
      },
      "outputs": [],
      "source": [
        "#03. Matplotlib\n",
        "#Example 01\n",
        "#Use plot and show function to create and show the graph"
      ]
    },
    {
      "cell_type": "code",
      "execution_count": 102,
      "metadata": {
        "trusted": true
      },
      "outputs": [
        {
          "ename": "ModuleNotFoundError",
          "evalue": "No module named 'matplotlib'",
          "output_type": "error",
          "traceback": [
            "\u001b[1;31m---------------------------------------------------------------------------\u001b[0m",
            "\u001b[1;31mModuleNotFoundError\u001b[0m                       Traceback (most recent call last)",
            "\u001b[1;32mc:\\Users\\Muhammad Akram\\Downloads\\Lab2 (1).ipynb Cell 99\u001b[0m line \u001b[0;36m2\n\u001b[0;32m      <a href='vscode-notebook-cell:/c%3A/Users/Muhammad%20Akram/Downloads/Lab2%20%281%29.ipynb#Y200sZmlsZQ%3D%3D?line=0'>1</a>\u001b[0m \u001b[39mimport\u001b[39;00m \u001b[39mnumpy\u001b[39;00m \u001b[39mas\u001b[39;00m \u001b[39mnp\u001b[39;00m\n\u001b[1;32m----> <a href='vscode-notebook-cell:/c%3A/Users/Muhammad%20Akram/Downloads/Lab2%20%281%29.ipynb#Y200sZmlsZQ%3D%3D?line=1'>2</a>\u001b[0m \u001b[39mimport\u001b[39;00m \u001b[39mmatplotlib\u001b[39;00m\u001b[39m.\u001b[39;00m\u001b[39mpyplot\u001b[39;00m \u001b[39mas\u001b[39;00m \u001b[39mplt\u001b[39;00m\n\u001b[0;32m      <a href='vscode-notebook-cell:/c%3A/Users/Muhammad%20Akram/Downloads/Lab2%20%281%29.ipynb#Y200sZmlsZQ%3D%3D?line=3'>4</a>\u001b[0m x \u001b[39m=\u001b[39m np\u001b[39m.\u001b[39marray((\u001b[39m1\u001b[39m,\u001b[39m2\u001b[39m,\u001b[39m3\u001b[39m,\u001b[39m4\u001b[39m,\u001b[39m5\u001b[39m,\u001b[39m6\u001b[39m,\u001b[39m7\u001b[39m,\u001b[39m8\u001b[39m,\u001b[39m9\u001b[39m,\u001b[39m10\u001b[39m))\n\u001b[0;32m      <a href='vscode-notebook-cell:/c%3A/Users/Muhammad%20Akram/Downloads/Lab2%20%281%29.ipynb#Y200sZmlsZQ%3D%3D?line=4'>5</a>\u001b[0m y \u001b[39m=\u001b[39m x\u001b[39m*\u001b[39m\u001b[39m*\u001b[39m\u001b[39m2\u001b[39m\n",
            "\u001b[1;31mModuleNotFoundError\u001b[0m: No module named 'matplotlib'"
          ]
        }
      ],
      "source": [
        "import numpy as np\n",
        "import matplotlib.pyplot as plt\n",
        "\n",
        "x = np.array((1,2,3,4,5,6,7,8,9,10))\n",
        "y = x**2\n",
        "\n",
        "print(x)\n",
        "\n",
        "plt.plot(x,y)\n",
        "plt.show()"
      ]
    },
    {
      "cell_type": "code",
      "execution_count": null,
      "metadata": {
        "trusted": true
      },
      "outputs": [
        {
          "name": "stdout",
          "output_type": "stream",
          "text": [
            "[ 1  2  3  4  5  6  7  8  9 10]\n"
          ]
        },
        {
          "data": {
            "image/png": "[encoded data removed]",
            "text/plain": [
              "<Figure size 640x480 with 1 Axes>"
            ]
          },
          "metadata": {},
          "output_type": "display_data"
        }
      ],
      "source": [
        "#Example 02\n",
        "#Add labels and tittle to the graph\n",
        "import numpy as np\n",
        "import matplotlib.pyplot as plt\n",
        "\n",
        "x = np.array((1,2,3,4,5,6,7,8,9,10))\n",
        "y = x**2\n",
        "\n",
        "print(x)\n",
        "\n",
        "plt.plot(x,y)\n",
        "plt.xlabel('x-axis')\n",
        "plt.ylabel('y-axis')\n",
        "plt.title(\"y = x^2\")\n",
        "plt.show()"
      ]
    },
    {
      "cell_type": "code",
      "execution_count": null,
      "metadata": {
        "trusted": true
      },
      "outputs": [
        {
          "name": "stdout",
          "output_type": "stream",
          "text": [
            "[ 1  2  3  4  5  6  7  8  9 10]\n",
            "[  1   4   9  16  25  36  49  64  81 100]\n",
            "[ 5  6  7  8  9 10 11 12 13 14]\n"
          ]
        },
        {
          "data": {
            "image/png": "[encoded data removed]",
            "text/plain": [
              "<Figure size 640x480 with 1 Axes>"
            ]
          },
          "metadata": {},
          "output_type": "display_data"
        }
      ],
      "source": [
        "#Exampel 03\n",
        "#Plot 3 variables on a single graph\n",
        "import numpy as np\n",
        "import matplotlib.pyplot as plt\n",
        "\n",
        "x = np.array((1,2,3,4,5,6,7,8,9,10))\n",
        "y = x**2\n",
        "z = x + 4\n",
        "print(f\"{x}\\n{y}\\n{z}\")\n",
        "plt.plot(x,x)\n",
        "plt.plot(x,y)\n",
        "plt.plot(x,z)\n",
        "plt.xlabel('x-axis')\n",
        "plt.ylabel('y-axis')\n",
        "plt.title(\"Plotting the x, y adn z\")\n",
        "plt.show()"
      ]
    },
    {
      "cell_type": "code",
      "execution_count": null,
      "metadata": {
        "trusted": true
      },
      "outputs": [
        {
          "name": "stdout",
          "output_type": "stream",
          "text": [
            "[ 1  2  3  4  5  6  7  8  9 10]\n",
            "[  1   4   9  16  25  36  49  64  81 100]\n",
            "[ 5  6  7  8  9 10 11 12 13 14]\n"
          ]
        },
        {
          "data": {
            "image/png": "[encoded data removed]",
            "text/plain": [
              "<Figure size 640x480 with 1 Axes>"
            ]
          },
          "metadata": {},
          "output_type": "display_data"
        }
      ],
      "source": [
        "#Example 04\n",
        "#Change the color linestyle and linewidth of the graph\n",
        "import numpy as np\n",
        "import matplotlib.pyplot as plt\n",
        "\n",
        "x = np.array((1,2,3,4,5,6,7,8,9,10))\n",
        "y = x**2\n",
        "z = x + 4\n",
        "print(f\"{x}\\n{y}\\n{z}\")\n",
        "plt.plot(x,x)\n",
        "plt.plot(x,y, color='g', linestyle = ':', linewidth=15)\n",
        "plt.plot(x,z)\n",
        "plt.xlabel('x-axis')\n",
        "plt.ylabel('y-axis')\n",
        "plt.title(\"Plotting the x, y adn z\")\n",
        "plt.show()"
      ]
    },
    {
      "cell_type": "code",
      "execution_count": null,
      "metadata": {
        "trusted": true
      },
      "outputs": [],
      "source": [
        "#Example 05\n",
        "#Plot using subplot"
      ]
    },
    {
      "cell_type": "code",
      "execution_count": null,
      "metadata": {
        "trusted": true
      },
      "outputs": [
        {
          "name": "stdout",
          "output_type": "stream",
          "text": [
            "[ 1  2  3  4  5  6  7  8  9 10]\n",
            "[  1   4   9  16  25  36  49  64  81 100]\n",
            "[ 5  6  7  8  9 10 11 12 13 14]\n"
          ]
        },
        {
          "data": {
            "image/png": "[encoded data removed]",
            "text/plain": [
              "<Figure size 1000x500 with 3 Axes>"
            ]
          },
          "metadata": {},
          "output_type": "display_data"
        }
      ],
      "source": [
        "import numpy as np\n",
        "import matplotlib.pyplot as plt\n",
        "\n",
        "x = np.array((1,2,3,4,5,6,7,8,9,10))\n",
        "y = x**2\n",
        "z = x + 4\n",
        "\n",
        "print(f\"{x}\\n{y}\\n{z}\")\n",
        "\n",
        "plt.figure(figsize=(10,5))\n",
        "\n",
        "plt.subplot(1,3,1)\n",
        "plt.plot(x,x)\n",
        "\n",
        "plt.subplot(1,3,2)\n",
        "plt.plot(x,y, color='g', linestyle = ':', linewidth=15)\n",
        "\n",
        "plt.subplot(1,3,3)\n",
        "plt.plot(x,z)\n",
        "plt.xlabel('x-axis')\n",
        "plt.ylabel('y-axis')\n",
        "plt.title(\"Plotting the x, y adn z\")\n",
        "plt.show()"
      ]
    },
    {
      "cell_type": "code",
      "execution_count": null,
      "metadata": {
        "trusted": true
      },
      "outputs": [
        {
          "name": "stdout",
          "output_type": "stream",
          "text": [
            "{'Ali': 25, 'Bilal': 20, 'Zahra': 19, 'Qayyum': 25, 'Alia': 15, 'Salman': 23}\n"
          ]
        },
        {
          "data": {
            "image/png": "[encoded data removed]",
            "text/plain": [
              "<Figure size 640x480 with 1 Axes>"
            ]
          },
          "metadata": {},
          "output_type": "display_data"
        }
      ],
      "source": [
        "#Example 06\n",
        "#Print the marks of students w.r.t their names using Dictionary\n",
        "stuMarks = {\"Ali\": 25, \"Bilal\": 20, \"Zahra\": 19, \"Qayyum\": 25, \"Alia\": 15, \"Salman\": 23}\n",
        "print(stuMarks)\n",
        "\n",
        "k = stuMarks.keys()\n",
        "v = stuMarks.values()\n",
        "\n",
        "plt.title(\"Student Marks\")\n",
        "plt.xlabel(\"Names\")\n",
        "plt.ylabel(\"Marks\")\n",
        "plt.bar(k,v)\n",
        "plt.show()"
      ]
    },
    {
      "cell_type": "code",
      "execution_count": null,
      "metadata": {
        "trusted": true
      },
      "outputs": [
        {
          "name": "stdout",
          "output_type": "stream",
          "text": [
            "{'Ali': 25, 'Bilal': 20, 'Zahra': 19, 'Qayyum': 25, 'Alia': 15, 'Salman': 23}\n"
          ]
        },
        {
          "data": {
            "image/png": "[encoded data removed]",
            "text/plain": [
              "<Figure size 640x480 with 1 Axes>"
            ]
          },
          "metadata": {},
          "output_type": "display_data"
        }
      ],
      "source": [
        "#Example 07\n",
        "#Plot horizonatal bar garaph\n",
        "stuMarks = {\"Ali\": 25, \"Bilal\": 20, \"Zahra\": 19, \"Qayyum\": 25, \"Alia\": 15, \"Salman\": 23}\n",
        "print(stuMarks)\n",
        "\n",
        "k = list(stuMarks.keys())\n",
        "v = list(stuMarks.values())\n",
        "\n",
        "plt.title(\"Student Marks\")\n",
        "plt.xlabel(\"Names\")\n",
        "plt.ylabel(\"Marks\")\n",
        "plt.barh(k,v)\n",
        "plt.show()"
      ]
    },
    {
      "cell_type": "code",
      "execution_count": null,
      "metadata": {
        "trusted": true
      },
      "outputs": [
        {
          "name": "stdout",
          "output_type": "stream",
          "text": [
            "{'Ali': 25, 'Bilal': 20, 'Zahra': 19, 'Qayyum': 25, 'Alia': 15, 'Salman': 23}\n"
          ]
        },
        {
          "data": {
            "image/png": "[encoded data removed]",
            "text/plain": [
              "<Figure size 800x600 with 1 Axes>"
            ]
          },
          "metadata": {},
          "output_type": "display_data"
        }
      ],
      "source": [
        "#Example 08\n",
        "#Bold the tittle and xlabel y label and also show the value of yaxis on top of bars\n",
        "import matplotlib.pyplot as plt\n",
        "\n",
        "stuMarks = {\"Ali\": 25, \"Bilal\": 20, \"Zahra\": 19, \"Qayyum\": 25, \"Alia\": 15, \"Salman\": 23}\n",
        "print(stuMarks)\n",
        "\n",
        "k = stuMarks.keys()\n",
        "v = stuMarks.values()\n",
        "\n",
        "plt.figure(figsize=(8, 6))  # Set the figure size\n",
        "\n",
        "# Plot the bar chart\n",
        "plt.bar(k, v)\n",
        "\n",
        "# Customize the plot\n",
        "plt.title(\"Student Marks\", fontweight=\"bold\")  # Make the title bold\n",
        "plt.xlabel(\"Names\", fontweight=\"bold\")  # Make xlabel bold\n",
        "plt.ylabel(\"Marks\", fontweight=\"bold\")  # Make ylabel bold\n",
        "\n",
        "# Annotate the values on top of the bars\n",
        "for key, value in stuMarks.items():\n",
        "    plt.text(key, value + 0.5, str(value), ha='center', va='bottom', fontweight='bold')\n",
        "plt.show()"
      ]
    },
    {
      "cell_type": "code",
      "execution_count": null,
      "metadata": {
        "trusted": true
      },
      "outputs": [
        {
          "name": "stdout",
          "output_type": "stream",
          "text": [
            "{'Ali': 25, 'Bilal': 20, 'Zahra': 19, 'Qayyum': 25, 'Alia': 15, 'Salman': 23}\n"
          ]
        },
        {
          "data": {
            "image/png": "[encoded data removed]",
            "text/plain": [
              "<Figure size 640x480 with 1 Axes>"
            ]
          },
          "metadata": {},
          "output_type": "display_data"
        }
      ],
      "source": [
        "#Example 09\n",
        "#Plot using scatter function\n",
        "import matplotlib.pyplot as plt\n",
        "\n",
        "stuMarks = {\"Ali\": 25, \"Bilal\": 20, \"Zahra\": 19, \"Qayyum\": 25, \"Alia\": 15, \"Salman\": 23}\n",
        "print(stuMarks)\n",
        "\n",
        "k = stuMarks.keys()\n",
        "v = stuMarks.values()\n",
        "\n",
        "plt.scatter(k,v, color = 'r', marker=\"*\", s = 40)\n",
        "plt.show()"
      ]
    },
    {
      "cell_type": "code",
      "execution_count": null,
      "metadata": {
        "trusted": true
      },
      "outputs": [
        {
          "data": {
            "image/png": "[encoded data removed]",
            "text/plain": [
              "<Figure size 640x480 with 1 Axes>"
            ]
          },
          "metadata": {},
          "output_type": "display_data"
        }
      ],
      "source": [
        "#Example 10\n",
        "#Plot a histogram\n",
        "a = [1,2,3,4,5,6,7,8,9,4,6,8,2,3,1,1,6,8,9,3,4,2,1,1,2,3,4,5,7]\n",
        "\n",
        "plt.hist(a, bins=20, color='g')\n",
        "plt.show()"
      ]
    },
    {
      "cell_type": "code",
      "execution_count": null,
      "metadata": {
        "trusted": true
      },
      "outputs": [
        {
          "data": {
            "image/png": "[encoded data removed]",
            "text/plain": [
              "<Figure size 640x480 with 1 Axes>"
            ]
          },
          "metadata": {},
          "output_type": "display_data"
        }
      ],
      "source": [
        "#Example 11\n",
        "#Demonstrate the use of Box Plot\n",
        "\n",
        "#A Box Plot is also known as Whisker plot is created to display the summary of the set of data values having properties like minimum, first quartile, median, third quartile and maximum. In the box plot, a box is created from the first quartile to the third quartile, a vertical line is also there which goes through the box at the median. Here x-axis denotes the data to be plotted while the y-axis shows the frequency distribution.\n",
        "\n",
        "l1 = [1,2,3,4,5,6,7,8,9,10]\n",
        "l2 = [3,4,5,6,7,1,2,8,9,1]\n",
        "l3 = [1,2,3,4,1,2,3,4,5,6]\n",
        "\n",
        "data = list([l1,l2,l3])\n",
        "\n",
        "plt.boxplot(data)\n",
        "plt.show()"
      ]
    },
    {
      "cell_type": "code",
      "execution_count": null,
      "metadata": {
        "trusted": true
      },
      "outputs": [
        {
          "data": {
            "image/png": "[encoded data removed]",
            "text/plain": [
              "<Figure size 640x480 with 1 Axes>"
            ]
          },
          "metadata": {},
          "output_type": "display_data"
        }
      ],
      "source": [
        "#Example 12\n",
        "#Demonstrate the use of violin plot\n",
        "l1 = [1,2,3,4,5,6,7,8,9,10]\n",
        "l2 = [3,8,9,6,7,1,2,8,9,1]\n",
        "l3 = [1,2,3,4,1,2,3,4,5,6]\n",
        "\n",
        "data = list([l1,l2,l3])\n",
        "\n",
        "plt.violinplot(data)\n",
        "plt.show()"
      ]
    },
    {
      "cell_type": "code",
      "execution_count": null,
      "metadata": {
        "trusted": true
      },
      "outputs": [
        {
          "name": "stdout",
          "output_type": "stream",
          "text": [
            "{'Ali': 25, 'Bilal': 20, 'Zahra': 19, 'Qayyum': 25, 'Alia': 15, 'Salman': 23}\n"
          ]
        },
        {
          "data": {
            "image/png": "[encoded data removed]",
            "text/plain": [
              "<Figure size 640x480 with 1 Axes>"
            ]
          },
          "metadata": {},
          "output_type": "display_data"
        }
      ],
      "source": [
        "#Example 13\n",
        "#Show the example of pie plot\n",
        "import matplotlib.pyplot as plt\n",
        "\n",
        "stuMarks = {\"Ali\": 25, \"Bilal\": 20, \"Zahra\": 19, \"Qayyum\": 25, \"Alia\": 15, \"Salman\": 23}\n",
        "print(stuMarks)\n",
        "\n",
        "k = stuMarks.keys()\n",
        "v = stuMarks.values()\n",
        "\n",
        "plt.pie(v,labels=k, autopct='%1.1f%%', startangle=140)\n",
        "plt.axis('equal')\n",
        "\n",
        "plt.show()"
      ]
    },
    {
      "cell_type": "code",
      "execution_count": null,
      "metadata": {},
      "outputs": [],
      "source": []
    }
  ],
  "metadata": {
    "kernelspec": {
      "display_name": "Python 3",
      "language": "python",
      "name": "python3"
    },
    "language_info": {
      "codemirror_mode": {
        "name": "ipython",
        "version": 3
      },
      "file_extension": ".py",
      "mimetype": "text/x-python",
      "name": "python",
      "nbconvert_exporter": "python",
      "pygments_lexer": "ipython3",
      "version": "3.11.5"
    }
  },
  "nbformat": 4,
  "nbformat_minor": 4
}
